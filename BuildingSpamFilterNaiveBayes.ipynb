{
 "cells": [
  {
   "cell_type": "markdown",
   "metadata": {},
   "source": [
    "# Building a Spam filter with Naive Bayes\n",
    "\n",
    "In this project, we're going to build a spam classifier for SMS messages that is based on the (multinomial) Naive Bayes algorithm.\n",
    "\n",
    "## Introduction\n",
    "\n",
    "Our goal is to write an algorithm that is able to classify SMS messages as \"spam\" or \"not-spam\". We will train the algorithm by offering it a collection of SMS messages that have been classified by humans as spam or not-spam. After this training, the algorithm will be able to classify new messages based on what it saw before, using Naive Bayes.\n",
    "\n",
    "How this will work in layman's terms is that during the training phase, it will be analyzed for all words that appear in a set of messages (the training set), how frequently they appear (relatively) in spam versus in not-spam messages. This information is stored in probabilities. Then, if a new (previously unknown) SMS message is offered, it applies these probabilities for the words in the new message, to calculate what is more likely: whether this message is spam, or not-spam. This will be tested on another set of messages (the test set).\n",
    "\n",
    "As we go through, we'll see how this works in more detail. Also, refer to the web for more detailed explanations about Naive Bayes, e.g. [here](https://en.wikipedia.org/wiki/Naive_Bayes_classifier).\n",
    "\n",
    "### Data source\n",
    "\n",
    "For the process described above, we will make use of a dataset containing over 5000 SMS messages that were already classified by humans. The dataset was published in the UCI Machine Learning Repository, and is described, and available for download, [here](https://archive.ics.uci.edu/ml/datasets/sms+spam+collection).\n",
    "\n",
    "### Table of contents\n",
    "\n",
    "The remainder of this notebook contains the following sections:\n",
    "* Initial data exploration\n",
    "* Split into a training set and a test set\n",
    "* Training data: preparations\n",
    "* Training data: vocabulary\n",
    "* Training data: add word counts\n",
    "* Training: calculate probabilities\n",
    "* Create the spam classifier\n",
    "* Test the spam classifier\n",
    "* Conclusion and next steps"
   ]
  },
  {
   "cell_type": "markdown",
   "metadata": {},
   "source": [
    "## Initial data exploration\n",
    "\n",
    "Let's start with importing the data (which I downloaded [from this page](https://archive.ics.uci.edu/ml/machine-learning-databases/00228/) and stored in the same folder as this notebook) and exploring it."
   ]
  },
  {
   "cell_type": "code",
   "execution_count": 1,
   "metadata": {},
   "outputs": [],
   "source": [
    "# Import the data as a pandas dataframe\n",
    "import pandas as pd\n",
    "sms_collection = pd.read_csv('SMSSpamCollection', sep ='\\t', header = None)"
   ]
  },
  {
   "cell_type": "code",
   "execution_count": 2,
   "metadata": {},
   "outputs": [
    {
     "data": {
      "text/html": [
       "<div>\n",
       "<style scoped>\n",
       "    .dataframe tbody tr th:only-of-type {\n",
       "        vertical-align: middle;\n",
       "    }\n",
       "\n",
       "    .dataframe tbody tr th {\n",
       "        vertical-align: top;\n",
       "    }\n",
       "\n",
       "    .dataframe thead th {\n",
       "        text-align: right;\n",
       "    }\n",
       "</style>\n",
       "<table border=\"1\" class=\"dataframe\">\n",
       "  <thead>\n",
       "    <tr style=\"text-align: right;\">\n",
       "      <th></th>\n",
       "      <th>0</th>\n",
       "      <th>1</th>\n",
       "    </tr>\n",
       "  </thead>\n",
       "  <tbody>\n",
       "    <tr>\n",
       "      <td>0</td>\n",
       "      <td>ham</td>\n",
       "      <td>Go until jurong point, crazy.. Available only ...</td>\n",
       "    </tr>\n",
       "    <tr>\n",
       "      <td>1</td>\n",
       "      <td>ham</td>\n",
       "      <td>Ok lar... Joking wif u oni...</td>\n",
       "    </tr>\n",
       "    <tr>\n",
       "      <td>2</td>\n",
       "      <td>spam</td>\n",
       "      <td>Free entry in 2 a wkly comp to win FA Cup fina...</td>\n",
       "    </tr>\n",
       "    <tr>\n",
       "      <td>3</td>\n",
       "      <td>ham</td>\n",
       "      <td>U dun say so early hor... U c already then say...</td>\n",
       "    </tr>\n",
       "    <tr>\n",
       "      <td>4</td>\n",
       "      <td>ham</td>\n",
       "      <td>Nah I don't think he goes to usf, he lives aro...</td>\n",
       "    </tr>\n",
       "    <tr>\n",
       "      <td>5</td>\n",
       "      <td>spam</td>\n",
       "      <td>FreeMsg Hey there darling it's been 3 week's n...</td>\n",
       "    </tr>\n",
       "    <tr>\n",
       "      <td>6</td>\n",
       "      <td>ham</td>\n",
       "      <td>Even my brother is not like to speak with me. ...</td>\n",
       "    </tr>\n",
       "    <tr>\n",
       "      <td>7</td>\n",
       "      <td>ham</td>\n",
       "      <td>As per your request 'Melle Melle (Oru Minnamin...</td>\n",
       "    </tr>\n",
       "    <tr>\n",
       "      <td>8</td>\n",
       "      <td>spam</td>\n",
       "      <td>WINNER!! As a valued network customer you have...</td>\n",
       "    </tr>\n",
       "    <tr>\n",
       "      <td>9</td>\n",
       "      <td>spam</td>\n",
       "      <td>Had your mobile 11 months or more? U R entitle...</td>\n",
       "    </tr>\n",
       "  </tbody>\n",
       "</table>\n",
       "</div>"
      ],
      "text/plain": [
       "      0                                                  1\n",
       "0   ham  Go until jurong point, crazy.. Available only ...\n",
       "1   ham                      Ok lar... Joking wif u oni...\n",
       "2  spam  Free entry in 2 a wkly comp to win FA Cup fina...\n",
       "3   ham  U dun say so early hor... U c already then say...\n",
       "4   ham  Nah I don't think he goes to usf, he lives aro...\n",
       "5  spam  FreeMsg Hey there darling it's been 3 week's n...\n",
       "6   ham  Even my brother is not like to speak with me. ...\n",
       "7   ham  As per your request 'Melle Melle (Oru Minnamin...\n",
       "8  spam  WINNER!! As a valued network customer you have...\n",
       "9  spam  Had your mobile 11 months or more? U R entitle..."
      ]
     },
     "execution_count": 2,
     "metadata": {},
     "output_type": "execute_result"
    }
   ],
   "source": [
    "# Show a sample (first 10 messages)\n",
    "sms_collection.head(10)"
   ]
  },
  {
   "cell_type": "markdown",
   "metadata": {},
   "source": [
    "Let's make this look a bit better. Note that column '0' indicates whether this message was classified as spam (\"spam\") or not-spam (\"ham\") by humans. "
   ]
  },
  {
   "cell_type": "code",
   "execution_count": 3,
   "metadata": {},
   "outputs": [],
   "source": [
    "# Set column names\n",
    "sms_collection.columns = ['label', 'SMS']"
   ]
  },
  {
   "cell_type": "code",
   "execution_count": 4,
   "metadata": {},
   "outputs": [
    {
     "data": {
      "text/html": [
       "<style  type=\"text/css\" >\n",
       "    #T_5c231a00_e1a7_11ec_a553_b0fc3633607c th {\n",
       "          text-align: left;\n",
       "    }    #T_5c231a00_e1a7_11ec_a553_b0fc3633607crow0_col0 {\n",
       "            text-align:  left;\n",
       "        }    #T_5c231a00_e1a7_11ec_a553_b0fc3633607crow0_col1 {\n",
       "            text-align:  left;\n",
       "        }    #T_5c231a00_e1a7_11ec_a553_b0fc3633607crow1_col0 {\n",
       "            text-align:  left;\n",
       "        }    #T_5c231a00_e1a7_11ec_a553_b0fc3633607crow1_col1 {\n",
       "            text-align:  left;\n",
       "        }    #T_5c231a00_e1a7_11ec_a553_b0fc3633607crow2_col0 {\n",
       "            text-align:  left;\n",
       "        }    #T_5c231a00_e1a7_11ec_a553_b0fc3633607crow2_col1 {\n",
       "            text-align:  left;\n",
       "        }    #T_5c231a00_e1a7_11ec_a553_b0fc3633607crow3_col0 {\n",
       "            text-align:  left;\n",
       "        }    #T_5c231a00_e1a7_11ec_a553_b0fc3633607crow3_col1 {\n",
       "            text-align:  left;\n",
       "        }    #T_5c231a00_e1a7_11ec_a553_b0fc3633607crow4_col0 {\n",
       "            text-align:  left;\n",
       "        }    #T_5c231a00_e1a7_11ec_a553_b0fc3633607crow4_col1 {\n",
       "            text-align:  left;\n",
       "        }    #T_5c231a00_e1a7_11ec_a553_b0fc3633607crow5_col0 {\n",
       "            text-align:  left;\n",
       "        }    #T_5c231a00_e1a7_11ec_a553_b0fc3633607crow5_col1 {\n",
       "            text-align:  left;\n",
       "        }    #T_5c231a00_e1a7_11ec_a553_b0fc3633607crow6_col0 {\n",
       "            text-align:  left;\n",
       "        }    #T_5c231a00_e1a7_11ec_a553_b0fc3633607crow6_col1 {\n",
       "            text-align:  left;\n",
       "        }    #T_5c231a00_e1a7_11ec_a553_b0fc3633607crow7_col0 {\n",
       "            text-align:  left;\n",
       "        }    #T_5c231a00_e1a7_11ec_a553_b0fc3633607crow7_col1 {\n",
       "            text-align:  left;\n",
       "        }    #T_5c231a00_e1a7_11ec_a553_b0fc3633607crow8_col0 {\n",
       "            text-align:  left;\n",
       "        }    #T_5c231a00_e1a7_11ec_a553_b0fc3633607crow8_col1 {\n",
       "            text-align:  left;\n",
       "        }    #T_5c231a00_e1a7_11ec_a553_b0fc3633607crow9_col0 {\n",
       "            text-align:  left;\n",
       "        }    #T_5c231a00_e1a7_11ec_a553_b0fc3633607crow9_col1 {\n",
       "            text-align:  left;\n",
       "        }</style><table id=\"T_5c231a00_e1a7_11ec_a553_b0fc3633607c\" ><thead>    <tr>        <th class=\"blank level0\" ></th>        <th class=\"col_heading level0 col0\" >label</th>        <th class=\"col_heading level0 col1\" >SMS</th>    </tr></thead><tbody>\n",
       "                <tr>\n",
       "                        <th id=\"T_5c231a00_e1a7_11ec_a553_b0fc3633607clevel0_row0\" class=\"row_heading level0 row0\" >0</th>\n",
       "                        <td id=\"T_5c231a00_e1a7_11ec_a553_b0fc3633607crow0_col0\" class=\"data row0 col0\" >ham</td>\n",
       "                        <td id=\"T_5c231a00_e1a7_11ec_a553_b0fc3633607crow0_col1\" class=\"data row0 col1\" >Go until jurong point, crazy.. Available only in bugis n great world la e buffet... Cine there got amore wat...</td>\n",
       "            </tr>\n",
       "            <tr>\n",
       "                        <th id=\"T_5c231a00_e1a7_11ec_a553_b0fc3633607clevel0_row1\" class=\"row_heading level0 row1\" >1</th>\n",
       "                        <td id=\"T_5c231a00_e1a7_11ec_a553_b0fc3633607crow1_col0\" class=\"data row1 col0\" >ham</td>\n",
       "                        <td id=\"T_5c231a00_e1a7_11ec_a553_b0fc3633607crow1_col1\" class=\"data row1 col1\" >Ok lar... Joking wif u oni...</td>\n",
       "            </tr>\n",
       "            <tr>\n",
       "                        <th id=\"T_5c231a00_e1a7_11ec_a553_b0fc3633607clevel0_row2\" class=\"row_heading level0 row2\" >2</th>\n",
       "                        <td id=\"T_5c231a00_e1a7_11ec_a553_b0fc3633607crow2_col0\" class=\"data row2 col0\" >spam</td>\n",
       "                        <td id=\"T_5c231a00_e1a7_11ec_a553_b0fc3633607crow2_col1\" class=\"data row2 col1\" >Free entry in 2 a wkly comp to win FA Cup final tkts 21st May 2005. Text FA to 87121 to receive entry question(std txt rate)T&C's apply 08452810075over18's</td>\n",
       "            </tr>\n",
       "            <tr>\n",
       "                        <th id=\"T_5c231a00_e1a7_11ec_a553_b0fc3633607clevel0_row3\" class=\"row_heading level0 row3\" >3</th>\n",
       "                        <td id=\"T_5c231a00_e1a7_11ec_a553_b0fc3633607crow3_col0\" class=\"data row3 col0\" >ham</td>\n",
       "                        <td id=\"T_5c231a00_e1a7_11ec_a553_b0fc3633607crow3_col1\" class=\"data row3 col1\" >U dun say so early hor... U c already then say...</td>\n",
       "            </tr>\n",
       "            <tr>\n",
       "                        <th id=\"T_5c231a00_e1a7_11ec_a553_b0fc3633607clevel0_row4\" class=\"row_heading level0 row4\" >4</th>\n",
       "                        <td id=\"T_5c231a00_e1a7_11ec_a553_b0fc3633607crow4_col0\" class=\"data row4 col0\" >ham</td>\n",
       "                        <td id=\"T_5c231a00_e1a7_11ec_a553_b0fc3633607crow4_col1\" class=\"data row4 col1\" >Nah I don't think he goes to usf, he lives around here though</td>\n",
       "            </tr>\n",
       "            <tr>\n",
       "                        <th id=\"T_5c231a00_e1a7_11ec_a553_b0fc3633607clevel0_row5\" class=\"row_heading level0 row5\" >5</th>\n",
       "                        <td id=\"T_5c231a00_e1a7_11ec_a553_b0fc3633607crow5_col0\" class=\"data row5 col0\" >spam</td>\n",
       "                        <td id=\"T_5c231a00_e1a7_11ec_a553_b0fc3633607crow5_col1\" class=\"data row5 col1\" >FreeMsg Hey there darling it's been 3 week's now and no word back! I'd like some fun you up for it still? Tb ok! XxX std chgs to send, £1.50 to rcv</td>\n",
       "            </tr>\n",
       "            <tr>\n",
       "                        <th id=\"T_5c231a00_e1a7_11ec_a553_b0fc3633607clevel0_row6\" class=\"row_heading level0 row6\" >6</th>\n",
       "                        <td id=\"T_5c231a00_e1a7_11ec_a553_b0fc3633607crow6_col0\" class=\"data row6 col0\" >ham</td>\n",
       "                        <td id=\"T_5c231a00_e1a7_11ec_a553_b0fc3633607crow6_col1\" class=\"data row6 col1\" >Even my brother is not like to speak with me. They treat me like aids patent.</td>\n",
       "            </tr>\n",
       "            <tr>\n",
       "                        <th id=\"T_5c231a00_e1a7_11ec_a553_b0fc3633607clevel0_row7\" class=\"row_heading level0 row7\" >7</th>\n",
       "                        <td id=\"T_5c231a00_e1a7_11ec_a553_b0fc3633607crow7_col0\" class=\"data row7 col0\" >ham</td>\n",
       "                        <td id=\"T_5c231a00_e1a7_11ec_a553_b0fc3633607crow7_col1\" class=\"data row7 col1\" >As per your request 'Melle Melle (Oru Minnaminunginte Nurungu Vettam)' has been set as your callertune for all Callers. Press *9 to copy your friends Callertune</td>\n",
       "            </tr>\n",
       "            <tr>\n",
       "                        <th id=\"T_5c231a00_e1a7_11ec_a553_b0fc3633607clevel0_row8\" class=\"row_heading level0 row8\" >8</th>\n",
       "                        <td id=\"T_5c231a00_e1a7_11ec_a553_b0fc3633607crow8_col0\" class=\"data row8 col0\" >spam</td>\n",
       "                        <td id=\"T_5c231a00_e1a7_11ec_a553_b0fc3633607crow8_col1\" class=\"data row8 col1\" >WINNER!! As a valued network customer you have been selected to receivea £900 prize reward! To claim call 09061701461. Claim code KL341. Valid 12 hours only.</td>\n",
       "            </tr>\n",
       "            <tr>\n",
       "                        <th id=\"T_5c231a00_e1a7_11ec_a553_b0fc3633607clevel0_row9\" class=\"row_heading level0 row9\" >9</th>\n",
       "                        <td id=\"T_5c231a00_e1a7_11ec_a553_b0fc3633607crow9_col0\" class=\"data row9 col0\" >spam</td>\n",
       "                        <td id=\"T_5c231a00_e1a7_11ec_a553_b0fc3633607crow9_col1\" class=\"data row9 col1\" >Had your mobile 11 months or more? U R entitled to Update to the latest colour mobiles with camera for Free! Call The Mobile Update Co FREE on 08002986030</td>\n",
       "            </tr>\n",
       "    </tbody></table>"
      ],
      "text/plain": [
       "<pandas.io.formats.style.Styler at 0x2a7ff096ec8>"
      ]
     },
     "execution_count": 4,
     "metadata": {},
     "output_type": "execute_result"
    }
   ],
   "source": [
    "# Avoid truncation\n",
    "pd.set_option('display.max_colwidth', -1)\n",
    "# Display with left alignment\n",
    "sms_collection.head(10).style.set_properties(**{'text-align': 'left'}).set_table_styles([ dict(selector='th', props=[('text-align', 'left')] ) ])"
   ]
  },
  {
   "cell_type": "code",
   "execution_count": 5,
   "metadata": {},
   "outputs": [
    {
     "name": "stdout",
     "output_type": "stream",
     "text": [
      "The dataframe contains 5572 rows.\n"
     ]
    }
   ],
   "source": [
    "# Check how many rows (SMS messages) we have.\n",
    "print('The dataframe contains',sms_collection.shape[0], 'rows.')"
   ]
  },
  {
   "cell_type": "code",
   "execution_count": 6,
   "metadata": {},
   "outputs": [
    {
     "name": "stdout",
     "output_type": "stream",
     "text": [
      "<class 'pandas.core.frame.DataFrame'>\n",
      "RangeIndex: 5572 entries, 0 to 5571\n",
      "Data columns (total 2 columns):\n",
      "label    5572 non-null object\n",
      "SMS      5572 non-null object\n",
      "dtypes: object(2)\n",
      "memory usage: 87.2+ KB\n"
     ]
    }
   ],
   "source": [
    "# Check completeness/correctness of data\n",
    "sms_collection.info()"
   ]
  },
  {
   "cell_type": "code",
   "execution_count": 7,
   "metadata": {},
   "outputs": [
    {
     "data": {
      "text/plain": [
       "ham     4825\n",
       "spam    747 \n",
       "Name: label, dtype: int64"
      ]
     },
     "execution_count": 7,
     "metadata": {},
     "output_type": "execute_result"
    }
   ],
   "source": [
    "# Check how many messages were characterized as spam and how many as non-spam\n",
    "sms_collection['label'].value_counts()"
   ]
  },
  {
   "cell_type": "code",
   "execution_count": 8,
   "metadata": {},
   "outputs": [
    {
     "data": {
      "text/plain": [
       "ham     0.865937\n",
       "spam    0.134063\n",
       "Name: label, dtype: float64"
      ]
     },
     "execution_count": 8,
     "metadata": {},
     "output_type": "execute_result"
    }
   ],
   "source": [
    "# Calculate spam and not-spam fractions\n",
    "sms_collection['label'].value_counts(normalize = True)"
   ]
  },
  {
   "cell_type": "markdown",
   "metadata": {},
   "source": [
    "What we observe:\n",
    "* there are 5572 messages\n",
    "* without missing data: all are labeled (spam / not-spam) and contain text\n",
    "* approximately 13% is spam and 87% is not-spam (according to human judgment)"
   ]
  },
  {
   "cell_type": "markdown",
   "metadata": {},
   "source": [
    "## Split into a training set and a test set\n",
    "\n",
    "Next we are going to split our entire set into:\n",
    "* a **training set** which we will use to train the algorithm\n",
    "* a **test set** which we can then use to test it  \n",
    "\n",
    "80% of the messages - randomly selected - will be included in the training set, the remainder in the test set."
   ]
  },
  {
   "cell_type": "code",
   "execution_count": 9,
   "metadata": {},
   "outputs": [],
   "source": [
    "# Create the training set, by taking randomly (but reproducable) 80% of the rows\n",
    "training_set = sms_collection.sample(frac = 0.8, axis = 0, random_state = 0)"
   ]
  },
  {
   "cell_type": "code",
   "execution_count": 10,
   "metadata": {},
   "outputs": [],
   "source": [
    "# Create the test set, by taking the remaining rows (which can be done using the index)\n",
    "test_set = sms_collection.drop(index=training_set.index)"
   ]
  },
  {
   "cell_type": "markdown",
   "metadata": {},
   "source": [
    "Expectation is that:\n",
    "* the training set contains 0.8 x 5572 rows\n",
    "* the test set contains 0.2 x 5572 rows\n",
    "* the indices of both sets are complimentary (as every row should appear in exactly one of the sets)\n",
    "* the percentages spam / non-spam are for both training set and test set approx the same as in the original dataframe\n",
    "\n",
    "Let's go check that."
   ]
  },
  {
   "cell_type": "code",
   "execution_count": 11,
   "metadata": {},
   "outputs": [
    {
     "name": "stdout",
     "output_type": "stream",
     "text": [
      "Training set contains 4458 rows. Expected was: 4457.6\n",
      "Test set contains 1114 rows. Expected was: 1114.4\n"
     ]
    }
   ],
   "source": [
    "# Check number of rows\n",
    "print ('Training set contains', training_set.shape[0], 'rows. Expected was:', sms_collection.shape[0]*0.8)\n",
    "print ('Test set contains', test_set.shape[0], 'rows. Expected was:', sms_collection.shape[0]*0.2)"
   ]
  },
  {
   "cell_type": "code",
   "execution_count": 12,
   "metadata": {},
   "outputs": [
    {
     "data": {
      "text/html": [
       "<div>\n",
       "<style scoped>\n",
       "    .dataframe tbody tr th:only-of-type {\n",
       "        vertical-align: middle;\n",
       "    }\n",
       "\n",
       "    .dataframe tbody tr th {\n",
       "        vertical-align: top;\n",
       "    }\n",
       "\n",
       "    .dataframe thead th {\n",
       "        text-align: right;\n",
       "    }\n",
       "</style>\n",
       "<table border=\"1\" class=\"dataframe\">\n",
       "  <thead>\n",
       "    <tr style=\"text-align: right;\">\n",
       "      <th></th>\n",
       "      <th>label</th>\n",
       "      <th>SMS</th>\n",
       "    </tr>\n",
       "  </thead>\n",
       "  <tbody>\n",
       "    <tr>\n",
       "      <td>1</td>\n",
       "      <td>ham</td>\n",
       "      <td>Ok lar... Joking wif u oni...</td>\n",
       "    </tr>\n",
       "    <tr>\n",
       "      <td>2</td>\n",
       "      <td>spam</td>\n",
       "      <td>Free entry in 2 a wkly comp to win FA Cup final tkts 21st May 2005. Text FA to 87121 to receive entry question(std txt rate)T&amp;C's apply 08452810075over18's</td>\n",
       "    </tr>\n",
       "    <tr>\n",
       "      <td>3</td>\n",
       "      <td>ham</td>\n",
       "      <td>U dun say so early hor... U c already then say...</td>\n",
       "    </tr>\n",
       "    <tr>\n",
       "      <td>4</td>\n",
       "      <td>ham</td>\n",
       "      <td>Nah I don't think he goes to usf, he lives around here though</td>\n",
       "    </tr>\n",
       "    <tr>\n",
       "      <td>5</td>\n",
       "      <td>spam</td>\n",
       "      <td>FreeMsg Hey there darling it's been 3 week's now and no word back! I'd like some fun you up for it still? Tb ok! XxX std chgs to send, £1.50 to rcv</td>\n",
       "    </tr>\n",
       "    <tr>\n",
       "      <td>6</td>\n",
       "      <td>ham</td>\n",
       "      <td>Even my brother is not like to speak with me. They treat me like aids patent.</td>\n",
       "    </tr>\n",
       "    <tr>\n",
       "      <td>8</td>\n",
       "      <td>spam</td>\n",
       "      <td>WINNER!! As a valued network customer you have been selected to receivea £900 prize reward! To claim call 09061701461. Claim code KL341. Valid 12 hours only.</td>\n",
       "    </tr>\n",
       "    <tr>\n",
       "      <td>9</td>\n",
       "      <td>spam</td>\n",
       "      <td>Had your mobile 11 months or more? U R entitled to Update to the latest colour mobiles with camera for Free! Call The Mobile Update Co FREE on 08002986030</td>\n",
       "    </tr>\n",
       "    <tr>\n",
       "      <td>10</td>\n",
       "      <td>ham</td>\n",
       "      <td>I'm gonna be home soon and i don't want to talk about this stuff anymore tonight, k? I've cried enough today.</td>\n",
       "    </tr>\n",
       "    <tr>\n",
       "      <td>11</td>\n",
       "      <td>spam</td>\n",
       "      <td>SIX chances to win CASH! From 100 to 20,000 pounds txt&gt; CSH11 and send to 87575. Cost 150p/day, 6days, 16+ TsandCs apply Reply HL 4 info</td>\n",
       "    </tr>\n",
       "    <tr>\n",
       "      <td>12</td>\n",
       "      <td>spam</td>\n",
       "      <td>URGENT! You have won a 1 week FREE membership in our £100,000 Prize Jackpot! Txt the word: CLAIM to No: 81010 T&amp;C www.dbuk.net LCCLTD POBOX 4403LDNW1A7RW18</td>\n",
       "    </tr>\n",
       "    <tr>\n",
       "      <td>13</td>\n",
       "      <td>ham</td>\n",
       "      <td>I've been searching for the right words to thank you for this breather. I promise i wont take your help for granted and will fulfil my promise. You have been wonderful and a blessing at all times.</td>\n",
       "    </tr>\n",
       "    <tr>\n",
       "      <td>14</td>\n",
       "      <td>ham</td>\n",
       "      <td>I HAVE A DATE ON SUNDAY WITH WILL!!</td>\n",
       "    </tr>\n",
       "    <tr>\n",
       "      <td>15</td>\n",
       "      <td>spam</td>\n",
       "      <td>XXXMobileMovieClub: To use your credit, click the WAP link in the next txt message or click here&gt;&gt; http://wap. xxxmobilemovieclub.com?n=QJKGIGHJJGCBL</td>\n",
       "    </tr>\n",
       "    <tr>\n",
       "      <td>16</td>\n",
       "      <td>ham</td>\n",
       "      <td>Oh k...i'm watching here:)</td>\n",
       "    </tr>\n",
       "    <tr>\n",
       "      <td>17</td>\n",
       "      <td>ham</td>\n",
       "      <td>Eh u remember how 2 spell his name... Yes i did. He v naughty make until i v wet.</td>\n",
       "    </tr>\n",
       "    <tr>\n",
       "      <td>18</td>\n",
       "      <td>ham</td>\n",
       "      <td>Fine if thats the way u feel. Thats the way its gota b</td>\n",
       "    </tr>\n",
       "    <tr>\n",
       "      <td>19</td>\n",
       "      <td>spam</td>\n",
       "      <td>England v Macedonia - dont miss the goals/team news. Txt ur national team to 87077 eg ENGLAND to 87077 Try:WALES, SCOTLAND 4txt/ú1.20 POBOXox36504W45WQ 16+</td>\n",
       "    </tr>\n",
       "    <tr>\n",
       "      <td>20</td>\n",
       "      <td>ham</td>\n",
       "      <td>Is that seriously how you spell his name?</td>\n",
       "    </tr>\n",
       "    <tr>\n",
       "      <td>22</td>\n",
       "      <td>ham</td>\n",
       "      <td>So ü pay first lar... Then when is da stock comin...</td>\n",
       "    </tr>\n",
       "    <tr>\n",
       "      <td>23</td>\n",
       "      <td>ham</td>\n",
       "      <td>Aft i finish my lunch then i go str down lor. Ard 3 smth lor. U finish ur lunch already?</td>\n",
       "    </tr>\n",
       "    <tr>\n",
       "      <td>26</td>\n",
       "      <td>ham</td>\n",
       "      <td>Lol your always so convincing.</td>\n",
       "    </tr>\n",
       "    <tr>\n",
       "      <td>27</td>\n",
       "      <td>ham</td>\n",
       "      <td>Did you catch the bus ? Are you frying an egg ? Did you make a tea? Are you eating your mom's left over dinner ? Do you feel my Love ?</td>\n",
       "    </tr>\n",
       "    <tr>\n",
       "      <td>29</td>\n",
       "      <td>ham</td>\n",
       "      <td>Ahhh. Work. I vaguely remember that! What does it feel like? Lol</td>\n",
       "    </tr>\n",
       "    <tr>\n",
       "      <td>30</td>\n",
       "      <td>ham</td>\n",
       "      <td>Wait that's still not all that clear, were you not sure about me being sarcastic or that that's why x doesn't want to live with us</td>\n",
       "    </tr>\n",
       "  </tbody>\n",
       "</table>\n",
       "</div>"
      ],
      "text/plain": [
       "   label  \\\n",
       "1   ham    \n",
       "2   spam   \n",
       "3   ham    \n",
       "4   ham    \n",
       "5   spam   \n",
       "6   ham    \n",
       "8   spam   \n",
       "9   spam   \n",
       "10  ham    \n",
       "11  spam   \n",
       "12  spam   \n",
       "13  ham    \n",
       "14  ham    \n",
       "15  spam   \n",
       "16  ham    \n",
       "17  ham    \n",
       "18  ham    \n",
       "19  spam   \n",
       "20  ham    \n",
       "22  ham    \n",
       "23  ham    \n",
       "26  ham    \n",
       "27  ham    \n",
       "29  ham    \n",
       "30  ham    \n",
       "\n",
       "                                                                                                                                                                                                     SMS  \n",
       "1   Ok lar... Joking wif u oni...                                                                                                                                                                         \n",
       "2   Free entry in 2 a wkly comp to win FA Cup final tkts 21st May 2005. Text FA to 87121 to receive entry question(std txt rate)T&C's apply 08452810075over18's                                           \n",
       "3   U dun say so early hor... U c already then say...                                                                                                                                                     \n",
       "4   Nah I don't think he goes to usf, he lives around here though                                                                                                                                         \n",
       "5   FreeMsg Hey there darling it's been 3 week's now and no word back! I'd like some fun you up for it still? Tb ok! XxX std chgs to send, £1.50 to rcv                                                   \n",
       "6   Even my brother is not like to speak with me. They treat me like aids patent.                                                                                                                         \n",
       "8   WINNER!! As a valued network customer you have been selected to receivea £900 prize reward! To claim call 09061701461. Claim code KL341. Valid 12 hours only.                                         \n",
       "9   Had your mobile 11 months or more? U R entitled to Update to the latest colour mobiles with camera for Free! Call The Mobile Update Co FREE on 08002986030                                            \n",
       "10  I'm gonna be home soon and i don't want to talk about this stuff anymore tonight, k? I've cried enough today.                                                                                         \n",
       "11  SIX chances to win CASH! From 100 to 20,000 pounds txt> CSH11 and send to 87575. Cost 150p/day, 6days, 16+ TsandCs apply Reply HL 4 info                                                              \n",
       "12  URGENT! You have won a 1 week FREE membership in our £100,000 Prize Jackpot! Txt the word: CLAIM to No: 81010 T&C www.dbuk.net LCCLTD POBOX 4403LDNW1A7RW18                                           \n",
       "13  I've been searching for the right words to thank you for this breather. I promise i wont take your help for granted and will fulfil my promise. You have been wonderful and a blessing at all times.  \n",
       "14  I HAVE A DATE ON SUNDAY WITH WILL!!                                                                                                                                                                   \n",
       "15  XXXMobileMovieClub: To use your credit, click the WAP link in the next txt message or click here>> http://wap. xxxmobilemovieclub.com?n=QJKGIGHJJGCBL                                                 \n",
       "16  Oh k...i'm watching here:)                                                                                                                                                                            \n",
       "17  Eh u remember how 2 spell his name... Yes i did. He v naughty make until i v wet.                                                                                                                     \n",
       "18  Fine if thats the way u feel. Thats the way its gota b                                                                                                                                              \n",
       "19  England v Macedonia - dont miss the goals/team news. Txt ur national team to 87077 eg ENGLAND to 87077 Try:WALES, SCOTLAND 4txt/ú1.20 POBOXox36504W45WQ 16+                                           \n",
       "20  Is that seriously how you spell his name?                                                                                                                                                             \n",
       "22  So ü pay first lar... Then when is da stock comin...                                                                                                                                                  \n",
       "23  Aft i finish my lunch then i go str down lor. Ard 3 smth lor. U finish ur lunch already?                                                                                                              \n",
       "26  Lol your always so convincing.                                                                                                                                                                        \n",
       "27  Did you catch the bus ? Are you frying an egg ? Did you make a tea? Are you eating your mom's left over dinner ? Do you feel my Love ?                                                                \n",
       "29  Ahhh. Work. I vaguely remember that! What does it feel like? Lol                                                                                                                                      \n",
       "30  Wait that's still not all that clear, were you not sure about me being sarcastic or that that's why x doesn't want to live with us                                                                    "
      ]
     },
     "execution_count": 12,
     "metadata": {},
     "output_type": "execute_result"
    }
   ],
   "source": [
    "# Show the first part of the training set\n",
    "training_set.sort_index().head(25)"
   ]
  },
  {
   "cell_type": "code",
   "execution_count": 13,
   "metadata": {},
   "outputs": [
    {
     "data": {
      "text/html": [
       "<div>\n",
       "<style scoped>\n",
       "    .dataframe tbody tr th:only-of-type {\n",
       "        vertical-align: middle;\n",
       "    }\n",
       "\n",
       "    .dataframe tbody tr th {\n",
       "        vertical-align: top;\n",
       "    }\n",
       "\n",
       "    .dataframe thead th {\n",
       "        text-align: right;\n",
       "    }\n",
       "</style>\n",
       "<table border=\"1\" class=\"dataframe\">\n",
       "  <thead>\n",
       "    <tr style=\"text-align: right;\">\n",
       "      <th></th>\n",
       "      <th>label</th>\n",
       "      <th>SMS</th>\n",
       "    </tr>\n",
       "  </thead>\n",
       "  <tbody>\n",
       "    <tr>\n",
       "      <td>0</td>\n",
       "      <td>ham</td>\n",
       "      <td>Go until jurong point, crazy.. Available only in bugis n great world la e buffet... Cine there got amore wat...</td>\n",
       "    </tr>\n",
       "    <tr>\n",
       "      <td>7</td>\n",
       "      <td>ham</td>\n",
       "      <td>As per your request 'Melle Melle (Oru Minnaminunginte Nurungu Vettam)' has been set as your callertune for all Callers. Press *9 to copy your friends Callertune</td>\n",
       "    </tr>\n",
       "    <tr>\n",
       "      <td>21</td>\n",
       "      <td>ham</td>\n",
       "      <td>I‘m going to try for 2 months ha ha only joking</td>\n",
       "    </tr>\n",
       "    <tr>\n",
       "      <td>24</td>\n",
       "      <td>ham</td>\n",
       "      <td>Ffffffffff. Alright no way I can meet up with you sooner?</td>\n",
       "    </tr>\n",
       "    <tr>\n",
       "      <td>25</td>\n",
       "      <td>ham</td>\n",
       "      <td>Just forced myself to eat a slice. I'm really not hungry tho. This sucks. Mark is getting worried. He knows I'm sick when I turn down pizza. Lol</td>\n",
       "    </tr>\n",
       "    <tr>\n",
       "      <td>28</td>\n",
       "      <td>ham</td>\n",
       "      <td>I'm back &amp;amp; we're packing the car now, I'll let you know if there's room</td>\n",
       "    </tr>\n",
       "    <tr>\n",
       "      <td>35</td>\n",
       "      <td>ham</td>\n",
       "      <td>Yup... Ok i go home look at the timings then i msg ü again... Xuhui going to learn on 2nd may too but her lesson is at 8am</td>\n",
       "    </tr>\n",
       "    <tr>\n",
       "      <td>56</td>\n",
       "      <td>spam</td>\n",
       "      <td>Congrats! 1 year special cinema pass for 2 is yours. call 09061209465 now! C Suprman V, Matrix3, StarWars3, etc all 4 FREE! bx420-ip4-5we. 150pm. Dont miss out!</td>\n",
       "    </tr>\n",
       "    <tr>\n",
       "      <td>60</td>\n",
       "      <td>ham</td>\n",
       "      <td>Your gonna have to pick up a $1 burger for yourself on your way home. I can't even move. Pain is killing me.</td>\n",
       "    </tr>\n",
       "    <tr>\n",
       "      <td>62</td>\n",
       "      <td>ham</td>\n",
       "      <td>Its a part of checking IQ</td>\n",
       "    </tr>\n",
       "  </tbody>\n",
       "</table>\n",
       "</div>"
      ],
      "text/plain": [
       "   label  \\\n",
       "0   ham    \n",
       "7   ham    \n",
       "21  ham    \n",
       "24  ham    \n",
       "25  ham    \n",
       "28  ham    \n",
       "35  ham    \n",
       "56  spam   \n",
       "60  ham    \n",
       "62  ham    \n",
       "\n",
       "                                                                                                                                                                  SMS  \n",
       "0   Go until jurong point, crazy.. Available only in bugis n great world la e buffet... Cine there got amore wat...                                                    \n",
       "7   As per your request 'Melle Melle (Oru Minnaminunginte Nurungu Vettam)' has been set as your callertune for all Callers. Press *9 to copy your friends Callertune   \n",
       "21  I‘m going to try for 2 months ha ha only joking                                                                                                                    \n",
       "24  Ffffffffff. Alright no way I can meet up with you sooner?                                                                                                          \n",
       "25  Just forced myself to eat a slice. I'm really not hungry tho. This sucks. Mark is getting worried. He knows I'm sick when I turn down pizza. Lol                   \n",
       "28  I'm back &amp; we're packing the car now, I'll let you know if there's room                                                                                        \n",
       "35  Yup... Ok i go home look at the timings then i msg ü again... Xuhui going to learn on 2nd may too but her lesson is at 8am                                         \n",
       "56  Congrats! 1 year special cinema pass for 2 is yours. call 09061209465 now! C Suprman V, Matrix3, StarWars3, etc all 4 FREE! bx420-ip4-5we. 150pm. Dont miss out!   \n",
       "60  Your gonna have to pick up a $1 burger for yourself on your way home. I can't even move. Pain is killing me.                                                       \n",
       "62  Its a part of checking IQ                                                                                                                                          "
      ]
     },
     "execution_count": 13,
     "metadata": {},
     "output_type": "execute_result"
    }
   ],
   "source": [
    "# Show the first part of the test set.\n",
    "# Which should include those rows with index in the range 0-30 that are not included in the above)\n",
    "test_set.sort_index().head(10)"
   ]
  },
  {
   "cell_type": "code",
   "execution_count": 14,
   "metadata": {},
   "outputs": [
    {
     "data": {
      "text/plain": [
       "ham     0.863616\n",
       "spam    0.136384\n",
       "Name: label, dtype: float64"
      ]
     },
     "execution_count": 14,
     "metadata": {},
     "output_type": "execute_result"
    }
   ],
   "source": [
    "# Show the percentages of spam/non-spam of the training set\n",
    "training_set['label'].value_counts(normalize = True)"
   ]
  },
  {
   "cell_type": "code",
   "execution_count": 15,
   "metadata": {},
   "outputs": [
    {
     "data": {
      "text/plain": [
       "ham     0.875224\n",
       "spam    0.124776\n",
       "Name: label, dtype: float64"
      ]
     },
     "execution_count": 15,
     "metadata": {},
     "output_type": "execute_result"
    }
   ],
   "source": [
    "# Show the percentages of spam/non-spam of the test set\n",
    "test_set['label'].value_counts(normalize = True)"
   ]
  },
  {
   "cell_type": "markdown",
   "metadata": {},
   "source": [
    "That all looks good, in line with expectation."
   ]
  },
  {
   "cell_type": "markdown",
   "metadata": {},
   "source": [
    "## Training data: preparations\n",
    "\n",
    "For the training set, we want to be able to recognize, and count, individual words in all of the SMS messages. What we'll do is remove the interpunction, make everything lower case, then separate the messages into individual words.\n",
    "\n",
    "(As I will need to go through some iterations to get this right and am not fully sure how this will perform, I will first try it out on a small subset of 5 messages, then once proven to work apply it to the entire training set.)\n"
   ]
  },
  {
   "cell_type": "code",
   "execution_count": 16,
   "metadata": {},
   "outputs": [],
   "source": [
    "# Create a subset to test on prior to applying to the entire set\n",
    "test_cleaning = training_set.head(5).copy()"
   ]
  },
  {
   "cell_type": "code",
   "execution_count": 17,
   "metadata": {},
   "outputs": [],
   "source": [
    "# Remove interpunction\n",
    "test_cleaning['SMS_clean'] = test_cleaning['SMS'].str.replace('\\W',' ')\n",
    "# Make lowercase\n",
    "test_cleaning['SMS_clean'] = test_cleaning['SMS_clean'].str.lower()\n",
    "\n",
    "# Replace any multiple spaces by single spaces\n",
    "test_cleaning['SMS_clean'] = test_cleaning['SMS_clean'].str.replace(' +', ' ')\n",
    "\n",
    "# Remove any spaces at start and end\n",
    "test_cleaning['SMS_clean'] = test_cleaning['SMS_clean'].str.strip()"
   ]
  },
  {
   "cell_type": "code",
   "execution_count": 18,
   "metadata": {},
   "outputs": [
    {
     "data": {
      "text/html": [
       "<div>\n",
       "<style scoped>\n",
       "    .dataframe tbody tr th:only-of-type {\n",
       "        vertical-align: middle;\n",
       "    }\n",
       "\n",
       "    .dataframe tbody tr th {\n",
       "        vertical-align: top;\n",
       "    }\n",
       "\n",
       "    .dataframe thead th {\n",
       "        text-align: right;\n",
       "    }\n",
       "</style>\n",
       "<table border=\"1\" class=\"dataframe\">\n",
       "  <thead>\n",
       "    <tr style=\"text-align: right;\">\n",
       "      <th></th>\n",
       "      <th>label</th>\n",
       "      <th>SMS</th>\n",
       "      <th>SMS_clean</th>\n",
       "    </tr>\n",
       "  </thead>\n",
       "  <tbody>\n",
       "    <tr>\n",
       "      <td>4456</td>\n",
       "      <td>ham</td>\n",
       "      <td>Storming msg: Wen u lift d phne, u say \"HELLO\" Do u knw wt is d real meaning of HELLO?? . . . It's d name of a girl..! . . . Yes.. And u knw who is dat girl?? \"Margaret Hello\" She is d girlfrnd f Grahmbell who invnted telphone... . . . . Moral:One can 4get d name of a person, bt not his girlfrnd... G o o d n i g h t . . .@</td>\n",
       "      <td>storming msg wen u lift d phne u say hello do u knw wt is d real meaning of hello it s d name of a girl yes and u knw who is dat girl margaret hello she is d girlfrnd f grahmbell who invnted telphone moral one can 4get d name of a person bt not his girlfrnd g o o d n i g h t</td>\n",
       "    </tr>\n",
       "    <tr>\n",
       "      <td>690</td>\n",
       "      <td>spam</td>\n",
       "      <td>&lt;Forwarded from 448712404000&gt;Please CALL 08712404000 immediately as there is an urgent message waiting for you.</td>\n",
       "      <td>forwarded from 448712404000 please call 08712404000 immediately as there is an urgent message waiting for you</td>\n",
       "    </tr>\n",
       "    <tr>\n",
       "      <td>944</td>\n",
       "      <td>ham</td>\n",
       "      <td>And also I've sorta blown him off a couple times recently so id rather not text him out of the blue looking for weed</td>\n",
       "      <td>and also i ve sorta blown him off a couple times recently so id rather not text him out of the blue looking for weed</td>\n",
       "    </tr>\n",
       "    <tr>\n",
       "      <td>3768</td>\n",
       "      <td>ham</td>\n",
       "      <td>Sir Goodmorning, Once free call me.</td>\n",
       "      <td>sir goodmorning once free call me</td>\n",
       "    </tr>\n",
       "    <tr>\n",
       "      <td>1189</td>\n",
       "      <td>ham</td>\n",
       "      <td>All will come alive.better correct any good looking figure there itself..</td>\n",
       "      <td>all will come alive better correct any good looking figure there itself</td>\n",
       "    </tr>\n",
       "  </tbody>\n",
       "</table>\n",
       "</div>"
      ],
      "text/plain": [
       "     label  \\\n",
       "4456  ham    \n",
       "690   spam   \n",
       "944   ham    \n",
       "3768  ham    \n",
       "1189  ham    \n",
       "\n",
       "                                                                                                                                                                                                                                                                                                                                       SMS  \\\n",
       "4456  Storming msg: Wen u lift d phne, u say \"HELLO\" Do u knw wt is d real meaning of HELLO?? . . . It's d name of a girl..! . . . Yes.. And u knw who is dat girl?? \"Margaret Hello\" She is d girlfrnd f Grahmbell who invnted telphone... . . . . Moral:One can 4get d name of a person, bt not his girlfrnd... G o o d n i g h t . . .@   \n",
       "690   <Forwarded from 448712404000>Please CALL 08712404000 immediately as there is an urgent message waiting for you.                                                                                                                                                                                                                        \n",
       "944   And also I've sorta blown him off a couple times recently so id rather not text him out of the blue looking for weed                                                                                                                                                                                                                   \n",
       "3768  Sir Goodmorning, Once free call me.                                                                                                                                                                                                                                                                                                    \n",
       "1189  All will come alive.better correct any good looking figure there itself..                                                                                                                                                                                                                                                              \n",
       "\n",
       "                                                                                                                                                                                                                                                                                SMS_clean  \n",
       "4456  storming msg wen u lift d phne u say hello do u knw wt is d real meaning of hello it s d name of a girl yes and u knw who is dat girl margaret hello she is d girlfrnd f grahmbell who invnted telphone moral one can 4get d name of a person bt not his girlfrnd g o o d n i g h t  \n",
       "690   forwarded from 448712404000 please call 08712404000 immediately as there is an urgent message waiting for you                                                                                                                                                                        \n",
       "944   and also i ve sorta blown him off a couple times recently so id rather not text him out of the blue looking for weed                                                                                                                                                                 \n",
       "3768  sir goodmorning once free call me                                                                                                                                                                                                                                                    \n",
       "1189  all will come alive better correct any good looking figure there itself                                                                                                                                                                                                              "
      ]
     },
     "execution_count": 18,
     "metadata": {},
     "output_type": "execute_result"
    }
   ],
   "source": [
    "# Show the result\n",
    "test_cleaning"
   ]
  },
  {
   "cell_type": "markdown",
   "metadata": {},
   "source": [
    "Looking good so far. Let's add another column with individual words."
   ]
  },
  {
   "cell_type": "code",
   "execution_count": 19,
   "metadata": {},
   "outputs": [
    {
     "data": {
      "text/html": [
       "<div>\n",
       "<style scoped>\n",
       "    .dataframe tbody tr th:only-of-type {\n",
       "        vertical-align: middle;\n",
       "    }\n",
       "\n",
       "    .dataframe tbody tr th {\n",
       "        vertical-align: top;\n",
       "    }\n",
       "\n",
       "    .dataframe thead th {\n",
       "        text-align: right;\n",
       "    }\n",
       "</style>\n",
       "<table border=\"1\" class=\"dataframe\">\n",
       "  <thead>\n",
       "    <tr style=\"text-align: right;\">\n",
       "      <th></th>\n",
       "      <th>label</th>\n",
       "      <th>SMS</th>\n",
       "      <th>SMS_clean</th>\n",
       "      <th>SMS_split</th>\n",
       "    </tr>\n",
       "  </thead>\n",
       "  <tbody>\n",
       "    <tr>\n",
       "      <td>4456</td>\n",
       "      <td>ham</td>\n",
       "      <td>Storming msg: Wen u lift d phne, u say \"HELLO\" Do u knw wt is d real meaning of HELLO?? . . . It's d name of a girl..! . . . Yes.. And u knw who is dat girl?? \"Margaret Hello\" She is d girlfrnd f Grahmbell who invnted telphone... . . . . Moral:One can 4get d name of a person, bt not his girlfrnd... G o o d n i g h t . . .@</td>\n",
       "      <td>storming msg wen u lift d phne u say hello do u knw wt is d real meaning of hello it s d name of a girl yes and u knw who is dat girl margaret hello she is d girlfrnd f grahmbell who invnted telphone moral one can 4get d name of a person bt not his girlfrnd g o o d n i g h t</td>\n",
       "      <td>[storming, msg, wen, u, lift, d, phne, u, say, hello, do, u, knw, wt, is, d, real, meaning, of, hello, it, s, d, name, of, a, girl, yes, and, u, knw, who, is, dat, girl, margaret, hello, she, is, d, girlfrnd, f, grahmbell, who, invnted, telphone, moral, one, can, 4get, d, name, of, a, person, bt, not, his, girlfrnd, g, o, o, d, n, i, g, h, t]</td>\n",
       "    </tr>\n",
       "    <tr>\n",
       "      <td>690</td>\n",
       "      <td>spam</td>\n",
       "      <td>&lt;Forwarded from 448712404000&gt;Please CALL 08712404000 immediately as there is an urgent message waiting for you.</td>\n",
       "      <td>forwarded from 448712404000 please call 08712404000 immediately as there is an urgent message waiting for you</td>\n",
       "      <td>[forwarded, from, 448712404000, please, call, 08712404000, immediately, as, there, is, an, urgent, message, waiting, for, you]</td>\n",
       "    </tr>\n",
       "    <tr>\n",
       "      <td>944</td>\n",
       "      <td>ham</td>\n",
       "      <td>And also I've sorta blown him off a couple times recently so id rather not text him out of the blue looking for weed</td>\n",
       "      <td>and also i ve sorta blown him off a couple times recently so id rather not text him out of the blue looking for weed</td>\n",
       "      <td>[and, also, i, ve, sorta, blown, him, off, a, couple, times, recently, so, id, rather, not, text, him, out, of, the, blue, looking, for, weed]</td>\n",
       "    </tr>\n",
       "    <tr>\n",
       "      <td>3768</td>\n",
       "      <td>ham</td>\n",
       "      <td>Sir Goodmorning, Once free call me.</td>\n",
       "      <td>sir goodmorning once free call me</td>\n",
       "      <td>[sir, goodmorning, once, free, call, me]</td>\n",
       "    </tr>\n",
       "    <tr>\n",
       "      <td>1189</td>\n",
       "      <td>ham</td>\n",
       "      <td>All will come alive.better correct any good looking figure there itself..</td>\n",
       "      <td>all will come alive better correct any good looking figure there itself</td>\n",
       "      <td>[all, will, come, alive, better, correct, any, good, looking, figure, there, itself]</td>\n",
       "    </tr>\n",
       "  </tbody>\n",
       "</table>\n",
       "</div>"
      ],
      "text/plain": [
       "     label  \\\n",
       "4456  ham    \n",
       "690   spam   \n",
       "944   ham    \n",
       "3768  ham    \n",
       "1189  ham    \n",
       "\n",
       "                                                                                                                                                                                                                                                                                                                                       SMS  \\\n",
       "4456  Storming msg: Wen u lift d phne, u say \"HELLO\" Do u knw wt is d real meaning of HELLO?? . . . It's d name of a girl..! . . . Yes.. And u knw who is dat girl?? \"Margaret Hello\" She is d girlfrnd f Grahmbell who invnted telphone... . . . . Moral:One can 4get d name of a person, bt not his girlfrnd... G o o d n i g h t . . .@   \n",
       "690   <Forwarded from 448712404000>Please CALL 08712404000 immediately as there is an urgent message waiting for you.                                                                                                                                                                                                                        \n",
       "944   And also I've sorta blown him off a couple times recently so id rather not text him out of the blue looking for weed                                                                                                                                                                                                                   \n",
       "3768  Sir Goodmorning, Once free call me.                                                                                                                                                                                                                                                                                                    \n",
       "1189  All will come alive.better correct any good looking figure there itself..                                                                                                                                                                                                                                                              \n",
       "\n",
       "                                                                                                                                                                                                                                                                                SMS_clean  \\\n",
       "4456  storming msg wen u lift d phne u say hello do u knw wt is d real meaning of hello it s d name of a girl yes and u knw who is dat girl margaret hello she is d girlfrnd f grahmbell who invnted telphone moral one can 4get d name of a person bt not his girlfrnd g o o d n i g h t   \n",
       "690   forwarded from 448712404000 please call 08712404000 immediately as there is an urgent message waiting for you                                                                                                                                                                         \n",
       "944   and also i ve sorta blown him off a couple times recently so id rather not text him out of the blue looking for weed                                                                                                                                                                  \n",
       "3768  sir goodmorning once free call me                                                                                                                                                                                                                                                     \n",
       "1189  all will come alive better correct any good looking figure there itself                                                                                                                                                                                                               \n",
       "\n",
       "                                                                                                                                                                                                                                                                                                                                                     SMS_split  \n",
       "4456  [storming, msg, wen, u, lift, d, phne, u, say, hello, do, u, knw, wt, is, d, real, meaning, of, hello, it, s, d, name, of, a, girl, yes, and, u, knw, who, is, dat, girl, margaret, hello, she, is, d, girlfrnd, f, grahmbell, who, invnted, telphone, moral, one, can, 4get, d, name, of, a, person, bt, not, his, girlfrnd, g, o, o, d, n, i, g, h, t]  \n",
       "690   [forwarded, from, 448712404000, please, call, 08712404000, immediately, as, there, is, an, urgent, message, waiting, for, you]                                                                                                                                                                                                                            \n",
       "944   [and, also, i, ve, sorta, blown, him, off, a, couple, times, recently, so, id, rather, not, text, him, out, of, the, blue, looking, for, weed]                                                                                                                                                                                                            \n",
       "3768  [sir, goodmorning, once, free, call, me]                                                                                                                                                                                                                                                                                                                  \n",
       "1189  [all, will, come, alive, better, correct, any, good, looking, figure, there, itself]                                                                                                                                                                                                                                                                      "
      ]
     },
     "execution_count": 19,
     "metadata": {},
     "output_type": "execute_result"
    }
   ],
   "source": [
    "# Add another column with the clean message split into words\n",
    "test_cleaning['SMS_split'] = test_cleaning['SMS_clean'].str.split()\n",
    "# Show result\n",
    "test_cleaning"
   ]
  },
  {
   "cell_type": "markdown",
   "metadata": {},
   "source": [
    "That all looks good. Wondering though what individual words like g o o d n i g h t are going to mean though for our algorithm.\n",
    "\n",
    "But anyway, let's apply this to our full traning set."
   ]
  },
  {
   "cell_type": "code",
   "execution_count": 20,
   "metadata": {},
   "outputs": [],
   "source": [
    "# Apply the same to the full training set\n",
    "# This time, chain all operations (and leaving out the 'clean' column)\n",
    "training_set['SMS_split'] = training_set['SMS'].str.replace('\\W',' ').str.lower().str.replace(' +', ' ').str.strip().str.split()"
   ]
  },
  {
   "cell_type": "code",
   "execution_count": 21,
   "metadata": {},
   "outputs": [
    {
     "data": {
      "text/html": [
       "<div>\n",
       "<style scoped>\n",
       "    .dataframe tbody tr th:only-of-type {\n",
       "        vertical-align: middle;\n",
       "    }\n",
       "\n",
       "    .dataframe tbody tr th {\n",
       "        vertical-align: top;\n",
       "    }\n",
       "\n",
       "    .dataframe thead th {\n",
       "        text-align: right;\n",
       "    }\n",
       "</style>\n",
       "<table border=\"1\" class=\"dataframe\">\n",
       "  <thead>\n",
       "    <tr style=\"text-align: right;\">\n",
       "      <th></th>\n",
       "      <th>label</th>\n",
       "      <th>SMS</th>\n",
       "      <th>SMS_split</th>\n",
       "    </tr>\n",
       "  </thead>\n",
       "  <tbody>\n",
       "    <tr>\n",
       "      <td>4456</td>\n",
       "      <td>ham</td>\n",
       "      <td>Storming msg: Wen u lift d phne, u say \"HELLO\" Do u knw wt is d real meaning of HELLO?? . . . It's d name of a girl..! . . . Yes.. And u knw who is dat girl?? \"Margaret Hello\" She is d girlfrnd f Grahmbell who invnted telphone... . . . . Moral:One can 4get d name of a person, bt not his girlfrnd... G o o d n i g h t . . .@</td>\n",
       "      <td>[storming, msg, wen, u, lift, d, phne, u, say, hello, do, u, knw, wt, is, d, real, meaning, of, hello, it, s, d, name, of, a, girl, yes, and, u, knw, who, is, dat, girl, margaret, hello, she, is, d, girlfrnd, f, grahmbell, who, invnted, telphone, moral, one, can, 4get, d, name, of, a, person, bt, not, his, girlfrnd, g, o, o, d, n, i, g, h, t]</td>\n",
       "    </tr>\n",
       "    <tr>\n",
       "      <td>690</td>\n",
       "      <td>spam</td>\n",
       "      <td>&lt;Forwarded from 448712404000&gt;Please CALL 08712404000 immediately as there is an urgent message waiting for you.</td>\n",
       "      <td>[forwarded, from, 448712404000, please, call, 08712404000, immediately, as, there, is, an, urgent, message, waiting, for, you]</td>\n",
       "    </tr>\n",
       "    <tr>\n",
       "      <td>944</td>\n",
       "      <td>ham</td>\n",
       "      <td>And also I've sorta blown him off a couple times recently so id rather not text him out of the blue looking for weed</td>\n",
       "      <td>[and, also, i, ve, sorta, blown, him, off, a, couple, times, recently, so, id, rather, not, text, him, out, of, the, blue, looking, for, weed]</td>\n",
       "    </tr>\n",
       "    <tr>\n",
       "      <td>3768</td>\n",
       "      <td>ham</td>\n",
       "      <td>Sir Goodmorning, Once free call me.</td>\n",
       "      <td>[sir, goodmorning, once, free, call, me]</td>\n",
       "    </tr>\n",
       "    <tr>\n",
       "      <td>1189</td>\n",
       "      <td>ham</td>\n",
       "      <td>All will come alive.better correct any good looking figure there itself..</td>\n",
       "      <td>[all, will, come, alive, better, correct, any, good, looking, figure, there, itself]</td>\n",
       "    </tr>\n",
       "    <tr>\n",
       "      <td>4437</td>\n",
       "      <td>ham</td>\n",
       "      <td>House-Maid is the murderer, coz the man was murdered on  &amp;lt;#&amp;gt; th January.. As public holiday all govt.instituitions are closed,including post office..understand?</td>\n",
       "      <td>[house, maid, is, the, murderer, coz, the, man, was, murdered, on, lt, gt, th, january, as, public, holiday, all, govt, instituitions, are, closed, including, post, office, understand]</td>\n",
       "    </tr>\n",
       "    <tr>\n",
       "      <td>3587</td>\n",
       "      <td>spam</td>\n",
       "      <td>I am hot n horny and willing I live local to you - text a reply to hear strt back from me 150p per msg Netcollex LtdHelpDesk: 02085076972 reply Stop to end</td>\n",
       "      <td>[i, am, hot, n, horny, and, willing, i, live, local, to, you, text, a, reply, to, hear, strt, back, from, me, 150p, per, msg, netcollex, ltdhelpdesk, 02085076972, reply, stop, to, end]</td>\n",
       "    </tr>\n",
       "    <tr>\n",
       "      <td>1982</td>\n",
       "      <td>ham</td>\n",
       "      <td>Sorry, I'll call later in meeting any thing related to trade please call Arul. &amp;lt;#&amp;gt;</td>\n",
       "      <td>[sorry, i, ll, call, later, in, meeting, any, thing, related, to, trade, please, call, arul, lt, gt]</td>\n",
       "    </tr>\n",
       "  </tbody>\n",
       "</table>\n",
       "</div>"
      ],
      "text/plain": [
       "     label  \\\n",
       "4456  ham    \n",
       "690   spam   \n",
       "944   ham    \n",
       "3768  ham    \n",
       "1189  ham    \n",
       "4437  ham    \n",
       "3587  spam   \n",
       "1982  ham    \n",
       "\n",
       "                                                                                                                                                                                                                                                                                                                                       SMS  \\\n",
       "4456  Storming msg: Wen u lift d phne, u say \"HELLO\" Do u knw wt is d real meaning of HELLO?? . . . It's d name of a girl..! . . . Yes.. And u knw who is dat girl?? \"Margaret Hello\" She is d girlfrnd f Grahmbell who invnted telphone... . . . . Moral:One can 4get d name of a person, bt not his girlfrnd... G o o d n i g h t . . .@   \n",
       "690   <Forwarded from 448712404000>Please CALL 08712404000 immediately as there is an urgent message waiting for you.                                                                                                                                                                                                                        \n",
       "944   And also I've sorta blown him off a couple times recently so id rather not text him out of the blue looking for weed                                                                                                                                                                                                                   \n",
       "3768  Sir Goodmorning, Once free call me.                                                                                                                                                                                                                                                                                                    \n",
       "1189  All will come alive.better correct any good looking figure there itself..                                                                                                                                                                                                                                                              \n",
       "4437  House-Maid is the murderer, coz the man was murdered on  &lt;#&gt; th January.. As public holiday all govt.instituitions are closed,including post office..understand?                                                                                                                                                                 \n",
       "3587  I am hot n horny and willing I live local to you - text a reply to hear strt back from me 150p per msg Netcollex LtdHelpDesk: 02085076972 reply Stop to end                                                                                                                                                                            \n",
       "1982  Sorry, I'll call later in meeting any thing related to trade please call Arul. &lt;#&gt;                                                                                                                                                                                                                                               \n",
       "\n",
       "                                                                                                                                                                                                                                                                                                                                                     SMS_split  \n",
       "4456  [storming, msg, wen, u, lift, d, phne, u, say, hello, do, u, knw, wt, is, d, real, meaning, of, hello, it, s, d, name, of, a, girl, yes, and, u, knw, who, is, dat, girl, margaret, hello, she, is, d, girlfrnd, f, grahmbell, who, invnted, telphone, moral, one, can, 4get, d, name, of, a, person, bt, not, his, girlfrnd, g, o, o, d, n, i, g, h, t]  \n",
       "690   [forwarded, from, 448712404000, please, call, 08712404000, immediately, as, there, is, an, urgent, message, waiting, for, you]                                                                                                                                                                                                                            \n",
       "944   [and, also, i, ve, sorta, blown, him, off, a, couple, times, recently, so, id, rather, not, text, him, out, of, the, blue, looking, for, weed]                                                                                                                                                                                                            \n",
       "3768  [sir, goodmorning, once, free, call, me]                                                                                                                                                                                                                                                                                                                  \n",
       "1189  [all, will, come, alive, better, correct, any, good, looking, figure, there, itself]                                                                                                                                                                                                                                                                      \n",
       "4437  [house, maid, is, the, murderer, coz, the, man, was, murdered, on, lt, gt, th, january, as, public, holiday, all, govt, instituitions, are, closed, including, post, office, understand]                                                                                                                                                                  \n",
       "3587  [i, am, hot, n, horny, and, willing, i, live, local, to, you, text, a, reply, to, hear, strt, back, from, me, 150p, per, msg, netcollex, ltdhelpdesk, 02085076972, reply, stop, to, end]                                                                                                                                                                  \n",
       "1982  [sorry, i, ll, call, later, in, meeting, any, thing, related, to, trade, please, call, arul, lt, gt]                                                                                                                                                                                                                                                      "
      ]
     },
     "execution_count": 21,
     "metadata": {},
     "output_type": "execute_result"
    }
   ],
   "source": [
    "# Show the result \n",
    "training_set.head(8)"
   ]
  },
  {
   "cell_type": "markdown",
   "metadata": {},
   "source": [
    "That looks good. We have a training set now where for every SMS we have a version with individual words."
   ]
  },
  {
   "cell_type": "markdown",
   "metadata": {},
   "source": [
    "## Training data: vocabulary\n",
    "\n",
    "Next step is to create a 'vocabulary' containing all words that are part of the SMSs in the training set.\n",
    "\n",
    "For the same reason as above (ability to iterate and verify, performance concern), we'll first try this out for our small sample of 5 messages."
   ]
  },
  {
   "cell_type": "code",
   "execution_count": 22,
   "metadata": {},
   "outputs": [],
   "source": [
    "# Create an empty test-vocabulary\n",
    "test_vocabulary = []\n",
    "# Add all words from all messages\n",
    "for sms in test_cleaning['SMS_split']:\n",
    "    for word in sms:\n",
    "        test_vocabulary.append(word)"
   ]
  },
  {
   "cell_type": "code",
   "execution_count": 23,
   "metadata": {},
   "outputs": [
    {
     "name": "stdout",
     "output_type": "stream",
     "text": [
      "['storming', 'msg', 'wen', 'u', 'lift', 'd', 'phne', 'u', 'say', 'hello', 'do', 'u', 'knw', 'wt', 'is', 'd', 'real', 'meaning', 'of', 'hello', 'it', 's', 'd', 'name', 'of', 'a', 'girl', 'yes', 'and', 'u', 'knw', 'who', 'is', 'dat', 'girl', 'margaret', 'hello', 'she', 'is', 'd', 'girlfrnd', 'f', 'grahmbell', 'who', 'invnted', 'telphone', 'moral', 'one', 'can', '4get', 'd', 'name', 'of', 'a', 'person', 'bt', 'not', 'his', 'girlfrnd', 'g', 'o', 'o', 'd', 'n', 'i', 'g', 'h', 't', 'forwarded', 'from', '448712404000', 'please', 'call', '08712404000', 'immediately', 'as', 'there', 'is', 'an', 'urgent', 'message', 'waiting', 'for', 'you', 'and', 'also', 'i', 've', 'sorta', 'blown', 'him', 'off', 'a', 'couple', 'times', 'recently', 'so', 'id', 'rather', 'not', 'text', 'him', 'out', 'of', 'the', 'blue', 'looking', 'for', 'weed', 'sir', 'goodmorning', 'once', 'free', 'call', 'me', 'all', 'will', 'come', 'alive', 'better', 'correct', 'any', 'good', 'looking', 'figure', 'there', 'itself']\n"
     ]
    }
   ],
   "source": [
    "# Show the result\n",
    "print(test_vocabulary)"
   ]
  },
  {
   "cell_type": "markdown",
   "metadata": {},
   "source": [
    "Looks good. (We'll address duplicate words soon.) Let's do the same for the entire training set."
   ]
  },
  {
   "cell_type": "code",
   "execution_count": 24,
   "metadata": {},
   "outputs": [
    {
     "name": "stdout",
     "output_type": "stream",
     "text": [
      "['storming', 'msg', 'wen', 'u', 'lift', 'd', 'phne', 'u', 'say', 'hello', 'do', 'u', 'knw', 'wt', 'is', 'd', 'real', 'meaning', 'of', 'hello', 'it', 's', 'd', 'name', 'of', 'a', 'girl', 'yes', 'and', 'u']\n"
     ]
    }
   ],
   "source": [
    "# Initiate the vocabulary\n",
    "vocabulary = []\n",
    "# Add all words from all messages in the training set\n",
    "for sms in training_set['SMS_split']:\n",
    "    for word in sms:\n",
    "        vocabulary.append(word)\n",
    "# Check a small sample\n",
    "print(vocabulary[0:30])"
   ]
  },
  {
   "cell_type": "markdown",
   "metadata": {},
   "source": [
    "Looks good. Let's now get rid of duplicates, by converting to a set. Then convert back to a list as that's what we need for next steps."
   ]
  },
  {
   "cell_type": "code",
   "execution_count": 25,
   "metadata": {},
   "outputs": [
    {
     "name": "stdout",
     "output_type": "stream",
     "text": [
      "Before removing duplicates, the vocabulary contains 71939 items.\n"
     ]
    }
   ],
   "source": [
    "# Print vocabulary size\n",
    "print('Before removing duplicates, the vocabulary contains', len(vocabulary), 'items.')"
   ]
  },
  {
   "cell_type": "code",
   "execution_count": 26,
   "metadata": {},
   "outputs": [
    {
     "name": "stdout",
     "output_type": "stream",
     "text": [
      "After removing duplicates, the vocabulary contains 7803 items.\n"
     ]
    }
   ],
   "source": [
    "# To remove duplicates, convert to a set. \n",
    "vocabulary_as_set = set(vocabulary)\n",
    "# Then back to list\n",
    "vocabulary = list(vocabulary_as_set)\n",
    "\n",
    "# Print vocabulary size\n",
    "print('After removing duplicates, the vocabulary contains', len(vocabulary), 'items.')"
   ]
  },
  {
   "cell_type": "markdown",
   "metadata": {},
   "source": [
    "## Training data: add word counts \n",
    "\n",
    "As a next step, for every message in the training set we want to calculate how many times each word in the vocabulary appears in this message. We'll first prepare this data in a dictionary, then add it to our training set dataframe.\n",
    "\n",
    "We'll aim to verify correctness by checking the result for small samples."
   ]
  },
  {
   "cell_type": "code",
   "execution_count": 27,
   "metadata": {},
   "outputs": [],
   "source": [
    "# Create a dictionary with every vocabulary word as key, and a list with 0's having the length of the number of SMS's\n",
    "word_counts_per_sms = {word: [0] * len(training_set) for word in vocabulary}"
   ]
  },
  {
   "cell_type": "code",
   "execution_count": 28,
   "metadata": {},
   "outputs": [
    {
     "name": "stdout",
     "output_type": "stream",
     "text": [
      "Number of keys in the dictionary is 7803 and should compy to length of vocabulary, being 7803\n",
      "Number of items for a random selected dictionary key is 4458 and should comply to nr of rows in training set, being 4458\n"
     ]
    }
   ],
   "source": [
    "# Validate dictionary size\n",
    "print('Number of keys in the dictionary is', len(word_counts_per_sms.keys()), 'and should compy to length of vocabulary, being', len(vocabulary))\n",
    "print('Number of items for a random selected dictionary key is', len(word_counts_per_sms['better']), 'and should comply to nr of rows in training set, being', len(training_set))\n"
   ]
  },
  {
   "cell_type": "code",
   "execution_count": 29,
   "metadata": {},
   "outputs": [],
   "source": [
    "# Fill the dictionary. (Don't run this more than once!)\n",
    "for index, sms in enumerate(training_set['SMS_split']):\n",
    "    for word in sms:\n",
    "        word_counts_per_sms[word][index] += 1"
   ]
  },
  {
   "cell_type": "code",
   "execution_count": 30,
   "metadata": {},
   "outputs": [
    {
     "name": "stdout",
     "output_type": "stream",
     "text": [
      "storming: [1, 0, 0, 0, 0]\n",
      "u: [4, 0, 0, 0, 0]\n",
      "call: [0, 1, 0, 1, 0]\n"
     ]
    }
   ],
   "source": [
    "# Validate the result for several words that appear in the first 5 messages (that we saw above)\n",
    "print('storming:', word_counts_per_sms['storming'][0:5])\n",
    "print('u:', word_counts_per_sms['u'][0:5])\n",
    "print('call:', word_counts_per_sms['call'][0:5])\n"
   ]
  },
  {
   "cell_type": "markdown",
   "metadata": {},
   "source": [
    "That looks good. Indeed we see 'storming' once and 'u' four times in the first message, not in the other messages, while 'call' appears once in the 2nd and 4th message.\n",
    "\n",
    "Let's add the contents of the dictionary to our training set dataframe."
   ]
  },
  {
   "cell_type": "code",
   "execution_count": 31,
   "metadata": {},
   "outputs": [
    {
     "data": {
      "text/html": [
       "<div>\n",
       "<style scoped>\n",
       "    .dataframe tbody tr th:only-of-type {\n",
       "        vertical-align: middle;\n",
       "    }\n",
       "\n",
       "    .dataframe tbody tr th {\n",
       "        vertical-align: top;\n",
       "    }\n",
       "\n",
       "    .dataframe thead th {\n",
       "        text-align: right;\n",
       "    }\n",
       "</style>\n",
       "<table border=\"1\" class=\"dataframe\">\n",
       "  <thead>\n",
       "    <tr style=\"text-align: right;\">\n",
       "      <th></th>\n",
       "      <th>belong</th>\n",
       "      <th>jordan</th>\n",
       "      <th>lowes</th>\n",
       "      <th>tiring</th>\n",
       "      <th>woould</th>\n",
       "      <th>church</th>\n",
       "      <th>tscs</th>\n",
       "      <th>aluable</th>\n",
       "      <th>ciao</th>\n",
       "      <th>1956669</th>\n",
       "      <th>...</th>\n",
       "      <th>ac</th>\n",
       "      <th>throws</th>\n",
       "      <th>future</th>\n",
       "      <th>mailed</th>\n",
       "      <th>lover</th>\n",
       "      <th>swear</th>\n",
       "      <th>hallaq</th>\n",
       "      <th>talked</th>\n",
       "      <th>calls</th>\n",
       "      <th>24hrs</th>\n",
       "    </tr>\n",
       "  </thead>\n",
       "  <tbody>\n",
       "    <tr>\n",
       "      <td>0</td>\n",
       "      <td>0</td>\n",
       "      <td>0</td>\n",
       "      <td>0</td>\n",
       "      <td>0</td>\n",
       "      <td>0</td>\n",
       "      <td>0</td>\n",
       "      <td>0</td>\n",
       "      <td>0</td>\n",
       "      <td>0</td>\n",
       "      <td>0</td>\n",
       "      <td>...</td>\n",
       "      <td>0</td>\n",
       "      <td>0</td>\n",
       "      <td>0</td>\n",
       "      <td>0</td>\n",
       "      <td>0</td>\n",
       "      <td>0</td>\n",
       "      <td>0</td>\n",
       "      <td>0</td>\n",
       "      <td>0</td>\n",
       "      <td>0</td>\n",
       "    </tr>\n",
       "    <tr>\n",
       "      <td>1</td>\n",
       "      <td>0</td>\n",
       "      <td>0</td>\n",
       "      <td>0</td>\n",
       "      <td>0</td>\n",
       "      <td>0</td>\n",
       "      <td>0</td>\n",
       "      <td>0</td>\n",
       "      <td>0</td>\n",
       "      <td>0</td>\n",
       "      <td>0</td>\n",
       "      <td>...</td>\n",
       "      <td>0</td>\n",
       "      <td>0</td>\n",
       "      <td>0</td>\n",
       "      <td>0</td>\n",
       "      <td>0</td>\n",
       "      <td>0</td>\n",
       "      <td>0</td>\n",
       "      <td>0</td>\n",
       "      <td>0</td>\n",
       "      <td>0</td>\n",
       "    </tr>\n",
       "    <tr>\n",
       "      <td>2</td>\n",
       "      <td>0</td>\n",
       "      <td>0</td>\n",
       "      <td>0</td>\n",
       "      <td>0</td>\n",
       "      <td>0</td>\n",
       "      <td>0</td>\n",
       "      <td>0</td>\n",
       "      <td>0</td>\n",
       "      <td>0</td>\n",
       "      <td>0</td>\n",
       "      <td>...</td>\n",
       "      <td>0</td>\n",
       "      <td>0</td>\n",
       "      <td>0</td>\n",
       "      <td>0</td>\n",
       "      <td>0</td>\n",
       "      <td>0</td>\n",
       "      <td>0</td>\n",
       "      <td>0</td>\n",
       "      <td>0</td>\n",
       "      <td>0</td>\n",
       "    </tr>\n",
       "    <tr>\n",
       "      <td>3</td>\n",
       "      <td>0</td>\n",
       "      <td>0</td>\n",
       "      <td>0</td>\n",
       "      <td>0</td>\n",
       "      <td>0</td>\n",
       "      <td>0</td>\n",
       "      <td>0</td>\n",
       "      <td>0</td>\n",
       "      <td>0</td>\n",
       "      <td>0</td>\n",
       "      <td>...</td>\n",
       "      <td>0</td>\n",
       "      <td>0</td>\n",
       "      <td>0</td>\n",
       "      <td>0</td>\n",
       "      <td>0</td>\n",
       "      <td>0</td>\n",
       "      <td>0</td>\n",
       "      <td>0</td>\n",
       "      <td>0</td>\n",
       "      <td>0</td>\n",
       "    </tr>\n",
       "    <tr>\n",
       "      <td>4</td>\n",
       "      <td>0</td>\n",
       "      <td>0</td>\n",
       "      <td>0</td>\n",
       "      <td>0</td>\n",
       "      <td>0</td>\n",
       "      <td>0</td>\n",
       "      <td>0</td>\n",
       "      <td>0</td>\n",
       "      <td>0</td>\n",
       "      <td>0</td>\n",
       "      <td>...</td>\n",
       "      <td>0</td>\n",
       "      <td>0</td>\n",
       "      <td>0</td>\n",
       "      <td>0</td>\n",
       "      <td>0</td>\n",
       "      <td>0</td>\n",
       "      <td>0</td>\n",
       "      <td>0</td>\n",
       "      <td>0</td>\n",
       "      <td>0</td>\n",
       "    </tr>\n",
       "  </tbody>\n",
       "</table>\n",
       "<p>5 rows × 7803 columns</p>\n",
       "</div>"
      ],
      "text/plain": [
       "   belong  jordan  lowes  tiring  woould  church  tscs  aluable  ciao  \\\n",
       "0  0       0       0      0       0       0       0     0        0      \n",
       "1  0       0       0      0       0       0       0     0        0      \n",
       "2  0       0       0      0       0       0       0     0        0      \n",
       "3  0       0       0      0       0       0       0     0        0      \n",
       "4  0       0       0      0       0       0       0     0        0      \n",
       "\n",
       "   1956669  ...  ac  throws  future  mailed  lover  swear  hallaq  talked  \\\n",
       "0  0        ...  0   0       0       0       0      0      0       0        \n",
       "1  0        ...  0   0       0       0       0      0      0       0        \n",
       "2  0        ...  0   0       0       0       0      0      0       0        \n",
       "3  0        ...  0   0       0       0       0      0      0       0        \n",
       "4  0        ...  0   0       0       0       0      0      0       0        \n",
       "\n",
       "   calls  24hrs  \n",
       "0  0      0      \n",
       "1  0      0      \n",
       "2  0      0      \n",
       "3  0      0      \n",
       "4  0      0      \n",
       "\n",
       "[5 rows x 7803 columns]"
      ]
     },
     "execution_count": 31,
     "metadata": {},
     "output_type": "execute_result"
    }
   ],
   "source": [
    "# Transform the dictionary into a dataframe\n",
    "word_counts_per_sms_as_df = pd.DataFrame(word_counts_per_sms)\n",
    "# Show a sample\n",
    "word_counts_per_sms_as_df.head(5)"
   ]
  },
  {
   "cell_type": "code",
   "execution_count": 32,
   "metadata": {},
   "outputs": [
    {
     "data": {
      "text/html": [
       "<div>\n",
       "<style scoped>\n",
       "    .dataframe tbody tr th:only-of-type {\n",
       "        vertical-align: middle;\n",
       "    }\n",
       "\n",
       "    .dataframe tbody tr th {\n",
       "        vertical-align: top;\n",
       "    }\n",
       "\n",
       "    .dataframe thead th {\n",
       "        text-align: right;\n",
       "    }\n",
       "</style>\n",
       "<table border=\"1\" class=\"dataframe\">\n",
       "  <thead>\n",
       "    <tr style=\"text-align: right;\">\n",
       "      <th></th>\n",
       "      <th>storming</th>\n",
       "      <th>u</th>\n",
       "      <th>call</th>\n",
       "    </tr>\n",
       "  </thead>\n",
       "  <tbody>\n",
       "    <tr>\n",
       "      <td>0</td>\n",
       "      <td>1</td>\n",
       "      <td>4</td>\n",
       "      <td>0</td>\n",
       "    </tr>\n",
       "    <tr>\n",
       "      <td>1</td>\n",
       "      <td>0</td>\n",
       "      <td>0</td>\n",
       "      <td>1</td>\n",
       "    </tr>\n",
       "    <tr>\n",
       "      <td>2</td>\n",
       "      <td>0</td>\n",
       "      <td>0</td>\n",
       "      <td>0</td>\n",
       "    </tr>\n",
       "    <tr>\n",
       "      <td>3</td>\n",
       "      <td>0</td>\n",
       "      <td>0</td>\n",
       "      <td>1</td>\n",
       "    </tr>\n",
       "    <tr>\n",
       "      <td>4</td>\n",
       "      <td>0</td>\n",
       "      <td>0</td>\n",
       "      <td>0</td>\n",
       "    </tr>\n",
       "  </tbody>\n",
       "</table>\n",
       "</div>"
      ],
      "text/plain": [
       "   storming  u  call\n",
       "0  1         4  0   \n",
       "1  0         0  1   \n",
       "2  0         0  0   \n",
       "3  0         0  1   \n",
       "4  0         0  0   "
      ]
     },
     "execution_count": 32,
     "metadata": {},
     "output_type": "execute_result"
    }
   ],
   "source": [
    "# Check the contents for our known examples\n",
    "word_counts_per_sms_as_df[['storming','u','call']][:5]"
   ]
  },
  {
   "cell_type": "code",
   "execution_count": 33,
   "metadata": {},
   "outputs": [],
   "source": [
    "# Merge the dataframes. (Take care of the index to the merging right)\n",
    "training_set_wordcount = pd.concat([training_set,word_counts_per_sms_as_df.set_index(training_set.index)], axis = 1)"
   ]
  },
  {
   "cell_type": "code",
   "execution_count": 34,
   "metadata": {},
   "outputs": [
    {
     "data": {
      "text/html": [
       "<div>\n",
       "<style scoped>\n",
       "    .dataframe tbody tr th:only-of-type {\n",
       "        vertical-align: middle;\n",
       "    }\n",
       "\n",
       "    .dataframe tbody tr th {\n",
       "        vertical-align: top;\n",
       "    }\n",
       "\n",
       "    .dataframe thead th {\n",
       "        text-align: right;\n",
       "    }\n",
       "</style>\n",
       "<table border=\"1\" class=\"dataframe\">\n",
       "  <thead>\n",
       "    <tr style=\"text-align: right;\">\n",
       "      <th></th>\n",
       "      <th>label</th>\n",
       "      <th>SMS</th>\n",
       "      <th>SMS_split</th>\n",
       "      <th>storming</th>\n",
       "      <th>u</th>\n",
       "      <th>call</th>\n",
       "    </tr>\n",
       "  </thead>\n",
       "  <tbody>\n",
       "    <tr>\n",
       "      <td>4456</td>\n",
       "      <td>ham</td>\n",
       "      <td>Storming msg: Wen u lift d phne, u say \"HELLO\" Do u knw wt is d real meaning of HELLO?? . . . It's d name of a girl..! . . . Yes.. And u knw who is dat girl?? \"Margaret Hello\" She is d girlfrnd f Grahmbell who invnted telphone... . . . . Moral:One can 4get d name of a person, bt not his girlfrnd... G o o d n i g h t . . .@</td>\n",
       "      <td>[storming, msg, wen, u, lift, d, phne, u, say, hello, do, u, knw, wt, is, d, real, meaning, of, hello, it, s, d, name, of, a, girl, yes, and, u, knw, who, is, dat, girl, margaret, hello, she, is, d, girlfrnd, f, grahmbell, who, invnted, telphone, moral, one, can, 4get, d, name, of, a, person, bt, not, his, girlfrnd, g, o, o, d, n, i, g, h, t]</td>\n",
       "      <td>1</td>\n",
       "      <td>4</td>\n",
       "      <td>0</td>\n",
       "    </tr>\n",
       "    <tr>\n",
       "      <td>690</td>\n",
       "      <td>spam</td>\n",
       "      <td>&lt;Forwarded from 448712404000&gt;Please CALL 08712404000 immediately as there is an urgent message waiting for you.</td>\n",
       "      <td>[forwarded, from, 448712404000, please, call, 08712404000, immediately, as, there, is, an, urgent, message, waiting, for, you]</td>\n",
       "      <td>0</td>\n",
       "      <td>0</td>\n",
       "      <td>1</td>\n",
       "    </tr>\n",
       "    <tr>\n",
       "      <td>944</td>\n",
       "      <td>ham</td>\n",
       "      <td>And also I've sorta blown him off a couple times recently so id rather not text him out of the blue looking for weed</td>\n",
       "      <td>[and, also, i, ve, sorta, blown, him, off, a, couple, times, recently, so, id, rather, not, text, him, out, of, the, blue, looking, for, weed]</td>\n",
       "      <td>0</td>\n",
       "      <td>0</td>\n",
       "      <td>0</td>\n",
       "    </tr>\n",
       "    <tr>\n",
       "      <td>3768</td>\n",
       "      <td>ham</td>\n",
       "      <td>Sir Goodmorning, Once free call me.</td>\n",
       "      <td>[sir, goodmorning, once, free, call, me]</td>\n",
       "      <td>0</td>\n",
       "      <td>0</td>\n",
       "      <td>1</td>\n",
       "    </tr>\n",
       "    <tr>\n",
       "      <td>1189</td>\n",
       "      <td>ham</td>\n",
       "      <td>All will come alive.better correct any good looking figure there itself..</td>\n",
       "      <td>[all, will, come, alive, better, correct, any, good, looking, figure, there, itself]</td>\n",
       "      <td>0</td>\n",
       "      <td>0</td>\n",
       "      <td>0</td>\n",
       "    </tr>\n",
       "  </tbody>\n",
       "</table>\n",
       "</div>"
      ],
      "text/plain": [
       "     label  \\\n",
       "4456  ham    \n",
       "690   spam   \n",
       "944   ham    \n",
       "3768  ham    \n",
       "1189  ham    \n",
       "\n",
       "                                                                                                                                                                                                                                                                                                                                       SMS  \\\n",
       "4456  Storming msg: Wen u lift d phne, u say \"HELLO\" Do u knw wt is d real meaning of HELLO?? . . . It's d name of a girl..! . . . Yes.. And u knw who is dat girl?? \"Margaret Hello\" She is d girlfrnd f Grahmbell who invnted telphone... . . . . Moral:One can 4get d name of a person, bt not his girlfrnd... G o o d n i g h t . . .@   \n",
       "690   <Forwarded from 448712404000>Please CALL 08712404000 immediately as there is an urgent message waiting for you.                                                                                                                                                                                                                        \n",
       "944   And also I've sorta blown him off a couple times recently so id rather not text him out of the blue looking for weed                                                                                                                                                                                                                   \n",
       "3768  Sir Goodmorning, Once free call me.                                                                                                                                                                                                                                                                                                    \n",
       "1189  All will come alive.better correct any good looking figure there itself..                                                                                                                                                                                                                                                              \n",
       "\n",
       "                                                                                                                                                                                                                                                                                                                                                     SMS_split  \\\n",
       "4456  [storming, msg, wen, u, lift, d, phne, u, say, hello, do, u, knw, wt, is, d, real, meaning, of, hello, it, s, d, name, of, a, girl, yes, and, u, knw, who, is, dat, girl, margaret, hello, she, is, d, girlfrnd, f, grahmbell, who, invnted, telphone, moral, one, can, 4get, d, name, of, a, person, bt, not, his, girlfrnd, g, o, o, d, n, i, g, h, t]   \n",
       "690   [forwarded, from, 448712404000, please, call, 08712404000, immediately, as, there, is, an, urgent, message, waiting, for, you]                                                                                                                                                                                                                             \n",
       "944   [and, also, i, ve, sorta, blown, him, off, a, couple, times, recently, so, id, rather, not, text, him, out, of, the, blue, looking, for, weed]                                                                                                                                                                                                             \n",
       "3768  [sir, goodmorning, once, free, call, me]                                                                                                                                                                                                                                                                                                                   \n",
       "1189  [all, will, come, alive, better, correct, any, good, looking, figure, there, itself]                                                                                                                                                                                                                                                                       \n",
       "\n",
       "      storming  u  call  \n",
       "4456  1         4  0     \n",
       "690   0         0  1     \n",
       "944   0         0  0     \n",
       "3768  0         0  1     \n",
       "1189  0         0  0     "
      ]
     },
     "execution_count": 34,
     "metadata": {},
     "output_type": "execute_result"
    }
   ],
   "source": [
    "# Verify the result on the same example again\n",
    "training_set_wordcount[['label','SMS', 'SMS_split', 'storming', 'u', 'call']][0:5]"
   ]
  },
  {
   "cell_type": "markdown",
   "metadata": {},
   "source": [
    "That looks good. Let's do one more step to verify the numbers."
   ]
  },
  {
   "cell_type": "code",
   "execution_count": 35,
   "metadata": {},
   "outputs": [
    {
     "name": "stdout",
     "output_type": "stream",
     "text": [
      "Total word count in training set dataframe 71939 \n",
      "This should be the same as the total count in the vocabulary before removing duplicates, which was 71939\n"
     ]
    }
   ],
   "source": [
    "# Verify the total word count in training set\n",
    "print('Total word count in training set dataframe', training_set_wordcount.sum(numeric_only=True).sum(), '\\nThis should be the same as the total count in the vocabulary before removing duplicates, which was 71939')"
   ]
  },
  {
   "cell_type": "markdown",
   "metadata": {},
   "source": [
    "Looks like we've been succesfull in this step."
   ]
  },
  {
   "cell_type": "markdown",
   "metadata": {},
   "source": [
    "## Training: calculate probabilities\n",
    "\n",
    "In this step we're going to calculate, for every word in our vocabulary, the proportional probability to be part of a spam message and to be part of a not-spam message.\n",
    "\n",
    "These are the formulas:"
   ]
  },
  {
   "attachments": {
    "formula_p_word_given_spam.JPG": {
     "image/jpeg": "[encoded data removed]"
    }
   },
   "cell_type": "markdown",
   "metadata": {},
   "source": [
    "![formula_p_word_given_spam.JPG](attachment:formula_p_word_given_spam.JPG)"
   ]
  },
  {
   "cell_type": "markdown",
   "metadata": {},
   "source": [
    "In these formulas:\n",
    "* P(wi | spam): the (relative) probability of a word to appear, given this is a spam message\n",
    "* P(wi | ham): the (relative) probability of a word to appear, given this is a not-spam message\n",
    "* N-wi-spam: the number of times this word appears in all spam messages combined\n",
    "* N-wi-ham: the number of times this word appears in all not-spam messages combined\n",
    "* N-spam: total number of spam messages\n",
    "* N-ham: total number of not-spam messages\n",
    "* N-vocabulary: total number of words in the vocabulary\n",
    "* alpha: constant to use for ['Laplace smoothing'](https://en.wikipedia.org/wiki/Additive_smoothing)\n",
    "\n",
    "We'll go calculate all of this.\n",
    "We start with the constants, then continue with the invididual words.\n"
   ]
  },
  {
   "cell_type": "code",
   "execution_count": 36,
   "metadata": {},
   "outputs": [],
   "source": [
    "# First separate our training set into separate sets (spam and not-spam)\n",
    "training_set_spam = training_set_wordcount[training_set_wordcount['label']=='spam']\n",
    "training_set_notspam = training_set_wordcount[training_set_wordcount['label']=='ham']"
   ]
  },
  {
   "cell_type": "code",
   "execution_count": 37,
   "metadata": {},
   "outputs": [
    {
     "name": "stdout",
     "output_type": "stream",
     "text": [
      "0.1363840287124271 0.863615971287573\n"
     ]
    }
   ],
   "source": [
    "# Calculate the chances something is spam, not-spam\n",
    "p_spam = len(training_set_spam)/len(training_set_wordcount)\n",
    "p_notspam = len(training_set_notspam)/len(training_set_wordcount)\n",
    "print (p_spam, p_notspam)"
   ]
  },
  {
   "cell_type": "code",
   "execution_count": 38,
   "metadata": {},
   "outputs": [
    {
     "name": "stdout",
     "output_type": "stream",
     "text": [
      "15473 56466 71939\n"
     ]
    }
   ],
   "source": [
    "# Calculate number of words in spam messages, number of words in not-spam messages\n",
    "n_spam = training_set_spam.sum(numeric_only=True).sum()\n",
    "n_notspam = training_set_notspam.sum(numeric_only=True).sum()\n",
    "print (n_spam, n_notspam, n_spam+n_notspam)"
   ]
  },
  {
   "cell_type": "code",
   "execution_count": 39,
   "metadata": {},
   "outputs": [
    {
     "name": "stdout",
     "output_type": "stream",
     "text": [
      "7803\n"
     ]
    }
   ],
   "source": [
    "# Calculate the number of words in the vocabulary\n",
    "n_vocabulary = len(vocabulary)\n",
    "print (n_vocabulary)"
   ]
  },
  {
   "cell_type": "code",
   "execution_count": 40,
   "metadata": {},
   "outputs": [],
   "source": [
    "# Initiate alpha for Laplace smoothing\n",
    "alpha = 1"
   ]
  },
  {
   "cell_type": "markdown",
   "metadata": {},
   "source": [
    "All the printed results above look good, in line with numbers that we saw earlier.\n",
    "\n",
    "Now, let's calculate the proportional probabilities for all words in the vocubulary, P(wi | spam) and P(wi | not-spam), according to the formulas above.\n",
    "\n",
    "Due to performance concerns, let's first do the calculations for one word that is likely to be used quite frequently ('msg'). This will also be helpful for verification purposes in a next step."
   ]
  },
  {
   "cell_type": "code",
   "execution_count": 41,
   "metadata": {},
   "outputs": [
    {
     "name": "stdout",
     "output_type": "stream",
     "text": [
      "Wordcounts (spam/not-spam/total): 45 37 82\n",
      "Proportional probabilities (spam / not-spam): 0.001976284584980237 0.0005912648399695032\n"
     ]
    }
   ],
   "source": [
    "# Test for one word (msg) the calculation of conditional probabilities\n",
    "testword = 'msg'\n",
    "n_testword_spam = training_set_spam[testword].sum()\n",
    "n_testword_notspam = training_set_notspam[testword].sum()\n",
    "n_testwordtotal = training_set_wordcount[testword].sum()\n",
    "print('Wordcounts (spam/not-spam/total):',n_testword_spam, n_testword_notspam, n_testwordtotal)\n",
    "p_testword_spam = (n_testword_spam + alpha)/(n_spam + alpha*n_vocabulary)\n",
    "p_testword_notspam = (n_testword_notspam + alpha)/(n_notspam + alpha*n_vocabulary)\n",
    "print('Proportional probabilities (spam / not-spam):', p_testword_spam, p_testword_notspam)"
   ]
  },
  {
   "cell_type": "markdown",
   "metadata": {},
   "source": [
    "Looks reasonable. The word 'msg' appears a bit more in the spam messages, but given that the ratio between spam and not-spam messages (13 vs 87) its proportional probability is approximately one fourth of the other.\n",
    "\n",
    "So let's apply this to all words, and store the results in two dictionaries. One dictionary for spam, one for not-spam. And both containing for all words in the vocabulary the proportional probabilities to be part of a message."
   ]
  },
  {
   "cell_type": "code",
   "execution_count": 42,
   "metadata": {},
   "outputs": [],
   "source": [
    "# Initiate empty dictionaries per word\n",
    "p_spam_perword = {word: 0 for word in vocabulary}\n",
    "p_notspam_perword = {word: 0 for word in vocabulary}"
   ]
  },
  {
   "cell_type": "code",
   "execution_count": 43,
   "metadata": {},
   "outputs": [],
   "source": [
    "# For every word in the vocabulary, calculate the proportional probabilities and store in the respective dictionaries\n",
    "for word in vocabulary:\n",
    "    n_word_spam = training_set_spam[word].sum()\n",
    "    n_word_notspam = training_set_notspam[word].sum()\n",
    "    p_word_spam = (n_word_spam + alpha)/(n_spam + alpha*n_vocabulary)\n",
    "    p_word_notspam = (n_word_notspam + alpha)/(n_notspam + alpha*n_vocabulary)\n",
    "    p_spam_perword[word] = p_word_spam\n",
    "    p_notspam_perword[word] = p_word_notspam   \n"
   ]
  },
  {
   "cell_type": "code",
   "execution_count": 44,
   "metadata": {},
   "outputs": [
    {
     "name": "stdout",
     "output_type": "stream",
     "text": [
      "Proportional spam probability for the word msg: 0.001976284584980237\n",
      "Proportional not-spam probability for the word msg: 0.0005912648399695032\n"
     ]
    }
   ],
   "source": [
    "# To verify the result, check for the word 'msg'\n",
    "print ('Proportional spam probability for the word msg:', p_spam_perword['msg'])\n",
    "print ('Proportional not-spam probability for the word msg:', p_notspam_perword['msg'])"
   ]
  },
  {
   "cell_type": "markdown",
   "metadata": {},
   "source": [
    "That's the same as what we saw above, looks good. \n",
    "\n",
    "Let's also show for a few more words:\n",
    "* \"u\": used a lot, typically in private messages, so we would expect to have a higher probability for not-spam\n",
    "* \"john\": a name, so we would typically expect it also mainly in private messages, higher probability for not-spam\n",
    "* \"prize\": so that's a word that we could expect to be more frequent in spam messages"
   ]
  },
  {
   "cell_type": "code",
   "execution_count": 45,
   "metadata": {},
   "outputs": [
    {
     "name": "stdout",
     "output_type": "stream",
     "text": [
      "Proportional spam probability for the word u is 0.006014779171678982\n",
      "Proportional not-spam probability for the word u: 0.01252547884672237\n",
      "Proportional spam probability for the word john is 4.296270836913559e-05\n",
      "Proportional not-spam probability for the word u: 0.00021783441472560642\n",
      "Proportional spam probability for the word prize is 0.0030503522942086267\n",
      "Proportional not-spam probability for the word u: 1.555960105182903e-05\n"
     ]
    }
   ],
   "source": [
    "# Check for the word 'u'\n",
    "testword = 'u'\n",
    "print ('Proportional spam probability for the word', testword, 'is', p_spam_perword[testword])\n",
    "print ('Proportional not-spam probability for the word u:', p_notspam_perword[testword])\n",
    "\n",
    "# Check for 'john'\n",
    "testword = 'john'\n",
    "print ('Proportional spam probability for the word', testword, 'is', p_spam_perword[testword])\n",
    "print ('Proportional not-spam probability for the word u:', p_notspam_perword[testword])\n",
    "\n",
    "# Check for 'prize'\n",
    "testword = 'prize'\n",
    "print ('Proportional spam probability for the word', testword, 'is', p_spam_perword[testword])\n",
    "print ('Proportional not-spam probability for the word u:', p_notspam_perword[testword])\n"
   ]
  },
  {
   "cell_type": "markdown",
   "metadata": {},
   "source": [
    "That all looks good."
   ]
  },
  {
   "cell_type": "markdown",
   "metadata": {},
   "source": [
    "## Create the spam classifier\n",
    "\n",
    "In this step we're going to create the spam classifier. It will take a message as an input, and then calculate the proportional probabilities this message to be spam or not-spam, given its words. Then it classifies the message according to the highest of the two values.\n",
    "\n",
    "These are the formulas for the probabilities:"
   ]
  },
  {
   "attachments": {
    "formula_p_spam_given_words.JPG": {
     "image/jpeg": "[encoded data removed]"
    }
   },
   "cell_type": "markdown",
   "metadata": {},
   "source": [
    "![formula_p_spam_given_words.JPG](attachment:formula_p_spam_given_words.JPG)"
   ]
  },
  {
   "cell_type": "markdown",
   "metadata": {},
   "source": [
    "In these formulas:\n",
    "* P(spam | w1, w2, ... wn): the proportional probability of a message to be spam, given its words\n",
    "* P(ham | w1, w2, ... wn): the proportional probability of a message to be not-spam, given its words\n",
    "* P(spam): the probability a message is spam in the first place\n",
    "* P(not-spam): the probability a message is not-spam in the first place\n",
    "* P(wi | spam): the proportional probability of a word appearing in spam (as calculated above); these are multiplied for all words in the message\n",
    "* P(wi | ham): the proportional probability of a word appearing in not-spam (as calculated above); these are multiplied for all words in the message\n",
    "\n",
    "We'll proceed with building a function that takes a message as its input and will return both proportional probabilities and a classification. Do note that:\n",
    "* words in the message that are not in the vocabulary are ignored\n",
    "* in case the calculated proportional probabilities are exactly the same, we'll classify as \"too close to call\"; we may need to refine this later\n"
   ]
  },
  {
   "cell_type": "code",
   "execution_count": 46,
   "metadata": {},
   "outputs": [],
   "source": [
    "# Import re library to enable reformatting the message\n",
    "import re\n",
    "\n",
    "# Create function to classify a message. Returns two proportional probabilities, and an outcome\n",
    "\n",
    "def classify(message):\n",
    "    # In similar way as above for the training set, split the message into individual words\n",
    "    message = re.sub(r'\\W', ' ',message)\n",
    "    message = message.lower()\n",
    "    message = message.split()\n",
    "    # print(message) - commented out after verification\n",
    "    \n",
    "    # Initiate the (proportional) probabilities. Use p_spam and p_notspam as they are the first term anyway.\n",
    "    p_spam_given_message = p_spam\n",
    "    p_notspam_given_message = p_notspam\n",
    "    \n",
    "    # Iterate over the words in the message. In case it is a known word, multiply with the respective proportional probabilities\n",
    "    for word in message:\n",
    "        if word in vocabulary:\n",
    "            p_spam_given_message = p_spam_given_message * p_spam_perword[word]\n",
    "            p_notspam_given_message = p_notspam_given_message * p_notspam_perword[word]\n",
    "        # else: - commented out after verification\n",
    "            #print('Did not find the word', word, 'and ignored it.')\n",
    "    \n",
    "    # Classify by comparing the proportional probabilities\n",
    "    if p_spam_given_message < p_notspam_given_message:\n",
    "        outcome = 'not spam'\n",
    "    elif p_spam_given_message > p_notspam_given_message:\n",
    "        outcome = 'spam'\n",
    "    elif p_spam_given_message == p_notspam_given_message:\n",
    "        outcome = 'too close to call'\n",
    "    \n",
    "    # Return 3 values\n",
    "    return p_spam_given_message, p_notspam_given_message, outcome\n"
   ]
  },
  {
   "cell_type": "markdown",
   "metadata": {},
   "source": [
    "Let's test this on two messages of which we would expect one to be spam, another one to be not-spam."
   ]
  },
  {
   "cell_type": "code",
   "execution_count": 47,
   "metadata": {},
   "outputs": [
    {
     "name": "stdout",
     "output_type": "stream",
     "text": [
      "Message text: WINNER!! This is the secret code to unlock the money: C3421.\n",
      "Proportional chance this message is spam: 1.5368193350514874e-25\n",
      "Proportional chance this message is not spam: 2.8048436891668135e-27\n",
      "Classification: spam\n",
      "\n",
      "\n",
      "Message text: Sounds good, Tom, then see u there\n",
      "Proportional chance this message is spam: 4.506566007230723e-25\n",
      "Proportional chance this message is not spam: 2.065815212502894e-21\n",
      "Classification: not spam\n"
     ]
    }
   ],
   "source": [
    "# Test on a message that looks like spam\n",
    "test_message_1 = 'WINNER!! This is the secret code to unlock the money: C3421.'\n",
    "print ('Message text:', test_message_1)\n",
    "msg_p_spam, msg_p_notspam, msg_outcome = classify(test_message_1)\n",
    "print('Proportional chance this message is spam:', msg_p_spam)\n",
    "print('Proportional chance this message is not spam:', msg_p_notspam)\n",
    "print('Classification:', msg_outcome)\n",
    "\n",
    "print('\\n')\n",
    "\n",
    "# Test on a message that looks like not-spam\n",
    "test_message_2 = 'Sounds good, Tom, then see u there'\n",
    "print ('Message text:', test_message_2)\n",
    "msg_p_spam, msg_p_notspam, msg_outcome = classify(test_message_2)\n",
    "print('Proportional chance this message is spam:', msg_p_spam)\n",
    "print('Proportional chance this message is not spam:', msg_p_notspam)\n",
    "print('Classification:', msg_outcome)\n"
   ]
  },
  {
   "cell_type": "markdown",
   "metadata": {},
   "source": [
    "Both correct, that looks promising! Let's also try it out on one message of the test set already."
   ]
  },
  {
   "cell_type": "code",
   "execution_count": 48,
   "metadata": {},
   "outputs": [
    {
     "name": "stdout",
     "output_type": "stream",
     "text": [
      "Message text: Go until jurong point, crazy.. Available only in bugis n great world la e buffet... Cine there got amore wat...\n",
      "Message was classified by a human as: ham\n",
      "Output of our spam classifier: (7.525433835951265e-68, 1.5906955434184212e-59, 'not spam')\n"
     ]
    }
   ],
   "source": [
    "# Test on a message from the test set\n",
    "print('Message text:', test_set.iloc[0]['SMS'])\n",
    "print('Message was classified by a human as:', test_set.iloc[0]['label'])\n",
    "print('Output of our spam classifier:', classify(test_set.iloc[0]['SMS']))"
   ]
  },
  {
   "cell_type": "markdown",
   "metadata": {},
   "source": [
    "That looks good too!"
   ]
  },
  {
   "cell_type": "markdown",
   "metadata": {},
   "source": [
    "## Test the spam classifier\n",
    "\n",
    "Now we can put our spam classifier to a real test. Earlier on we separated out a \"test set\" with 1114 messages. For all of them we do know how a human classified it. Our algorithm hasn't seen them before though, and we're going to ask it to classify all of them. Then we can compare with the human classification, and (assuming the human classification is correct) assess how well our spam classifier performs.\n",
    "\n",
    "We'll update our test set dataframe with 3 columns, and fill those with the results of the spam classifier."
   ]
  },
  {
   "cell_type": "code",
   "execution_count": 49,
   "metadata": {},
   "outputs": [
    {
     "data": {
      "text/html": [
       "<div>\n",
       "<style scoped>\n",
       "    .dataframe tbody tr th:only-of-type {\n",
       "        vertical-align: middle;\n",
       "    }\n",
       "\n",
       "    .dataframe tbody tr th {\n",
       "        vertical-align: top;\n",
       "    }\n",
       "\n",
       "    .dataframe thead th {\n",
       "        text-align: right;\n",
       "    }\n",
       "</style>\n",
       "<table border=\"1\" class=\"dataframe\">\n",
       "  <thead>\n",
       "    <tr style=\"text-align: right;\">\n",
       "      <th></th>\n",
       "      <th>label</th>\n",
       "      <th>SMS</th>\n",
       "      <th>p_spam</th>\n",
       "      <th>p_notspam</th>\n",
       "      <th>classification</th>\n",
       "    </tr>\n",
       "  </thead>\n",
       "  <tbody>\n",
       "    <tr>\n",
       "      <td>0</td>\n",
       "      <td>ham</td>\n",
       "      <td>Go until jurong point, crazy.. Available only in bugis n great world la e buffet... Cine there got amore wat...</td>\n",
       "      <td>0</td>\n",
       "      <td>0</td>\n",
       "      <td>to do</td>\n",
       "    </tr>\n",
       "    <tr>\n",
       "      <td>7</td>\n",
       "      <td>ham</td>\n",
       "      <td>As per your request 'Melle Melle (Oru Minnaminunginte Nurungu Vettam)' has been set as your callertune for all Callers. Press *9 to copy your friends Callertune</td>\n",
       "      <td>0</td>\n",
       "      <td>0</td>\n",
       "      <td>to do</td>\n",
       "    </tr>\n",
       "    <tr>\n",
       "      <td>21</td>\n",
       "      <td>ham</td>\n",
       "      <td>I‘m going to try for 2 months ha ha only joking</td>\n",
       "      <td>0</td>\n",
       "      <td>0</td>\n",
       "      <td>to do</td>\n",
       "    </tr>\n",
       "  </tbody>\n",
       "</table>\n",
       "</div>"
      ],
      "text/plain": [
       "   label  \\\n",
       "0   ham    \n",
       "7   ham    \n",
       "21  ham    \n",
       "\n",
       "                                                                                                                                                                 SMS  \\\n",
       "0   Go until jurong point, crazy.. Available only in bugis n great world la e buffet... Cine there got amore wat...                                                    \n",
       "7   As per your request 'Melle Melle (Oru Minnaminunginte Nurungu Vettam)' has been set as your callertune for all Callers. Press *9 to copy your friends Callertune   \n",
       "21  I‘m going to try for 2 months ha ha only joking                                                                                                                    \n",
       "\n",
       "    p_spam  p_notspam classification  \n",
       "0   0       0          to do          \n",
       "7   0       0          to do          \n",
       "21  0       0          to do          "
      ]
     },
     "execution_count": 49,
     "metadata": {},
     "output_type": "execute_result"
    }
   ],
   "source": [
    "# Add the 3 columns with an initial value\n",
    "test_set['p_spam']=0\n",
    "test_set['p_notspam']=0\n",
    "test_set['classification']='to do'\n",
    "test_set.head(3)"
   ]
  },
  {
   "cell_type": "code",
   "execution_count": 50,
   "metadata": {},
   "outputs": [
    {
     "data": {
      "text/plain": [
       "not spam             979\n",
       "spam                 134\n",
       "too close to call    1  \n",
       "Name: classification, dtype: int64"
      ]
     },
     "execution_count": 50,
     "metadata": {},
     "output_type": "execute_result"
    }
   ],
   "source": [
    "# Fill the columns by applying the our classification function to every row\n",
    "test_set['p_spam'] = test_set['SMS'].apply(lambda SMS: classify(SMS)[0])\n",
    "test_set['p_notspam'] = test_set['SMS'].apply(lambda SMS: classify(SMS)[1])\n",
    "test_set['classification'] = test_set['SMS'].apply(lambda SMS: classify(SMS)[2])\n",
    "\n",
    "# Show a summary of the classification results\n",
    "test_set['classification'].value_counts()"
   ]
  },
  {
   "cell_type": "markdown",
   "metadata": {},
   "source": [
    "Values look reasonably in line with expectation, with many more not-spam as spam in a ratio similar to human classification. Only for one message apparently both proportional probabilities were exactly the same."
   ]
  },
  {
   "cell_type": "code",
   "execution_count": 51,
   "metadata": {},
   "outputs": [
    {
     "data": {
      "text/html": [
       "<div>\n",
       "<style scoped>\n",
       "    .dataframe tbody tr th:only-of-type {\n",
       "        vertical-align: middle;\n",
       "    }\n",
       "\n",
       "    .dataframe tbody tr th {\n",
       "        vertical-align: top;\n",
       "    }\n",
       "\n",
       "    .dataframe thead th {\n",
       "        text-align: right;\n",
       "    }\n",
       "</style>\n",
       "<table border=\"1\" class=\"dataframe\">\n",
       "  <thead>\n",
       "    <tr style=\"text-align: right;\">\n",
       "      <th></th>\n",
       "      <th>label</th>\n",
       "      <th>SMS</th>\n",
       "      <th>p_spam</th>\n",
       "      <th>p_notspam</th>\n",
       "      <th>classification</th>\n",
       "    </tr>\n",
       "  </thead>\n",
       "  <tbody>\n",
       "    <tr>\n",
       "      <td>0</td>\n",
       "      <td>ham</td>\n",
       "      <td>Go until jurong point, crazy.. Available only in bugis n great world la e buffet... Cine there got amore wat...</td>\n",
       "      <td>7.525434e-68</td>\n",
       "      <td>1.590696e-59</td>\n",
       "      <td>not spam</td>\n",
       "    </tr>\n",
       "    <tr>\n",
       "      <td>7</td>\n",
       "      <td>ham</td>\n",
       "      <td>As per your request 'Melle Melle (Oru Minnaminunginte Nurungu Vettam)' has been set as your callertune for all Callers. Press *9 to copy your friends Callertune</td>\n",
       "      <td>1.810913e-92</td>\n",
       "      <td>2.015411e-90</td>\n",
       "      <td>not spam</td>\n",
       "    </tr>\n",
       "    <tr>\n",
       "      <td>21</td>\n",
       "      <td>ham</td>\n",
       "      <td>I‘m going to try for 2 months ha ha only joking</td>\n",
       "      <td>7.244634e-40</td>\n",
       "      <td>3.995048e-35</td>\n",
       "      <td>not spam</td>\n",
       "    </tr>\n",
       "    <tr>\n",
       "      <td>24</td>\n",
       "      <td>ham</td>\n",
       "      <td>Ffffffffff. Alright no way I can meet up with you sooner?</td>\n",
       "      <td>6.352126e-34</td>\n",
       "      <td>3.470980e-27</td>\n",
       "      <td>not spam</td>\n",
       "    </tr>\n",
       "    <tr>\n",
       "      <td>25</td>\n",
       "      <td>ham</td>\n",
       "      <td>Just forced myself to eat a slice. I'm really not hungry tho. This sucks. Mark is getting worried. He knows I'm sick when I turn down pizza. Lol</td>\n",
       "      <td>1.186144e-100</td>\n",
       "      <td>8.872769e-83</td>\n",
       "      <td>not spam</td>\n",
       "    </tr>\n",
       "    <tr>\n",
       "      <td>28</td>\n",
       "      <td>ham</td>\n",
       "      <td>I'm back &amp;amp; we're packing the car now, I'll let you know if there's room</td>\n",
       "      <td>1.582828e-57</td>\n",
       "      <td>8.778320e-45</td>\n",
       "      <td>not spam</td>\n",
       "    </tr>\n",
       "    <tr>\n",
       "      <td>35</td>\n",
       "      <td>ham</td>\n",
       "      <td>Yup... Ok i go home look at the timings then i msg ü again... Xuhui going to learn on 2nd may too but her lesson is at 8am</td>\n",
       "      <td>3.671964e-93</td>\n",
       "      <td>2.489850e-76</td>\n",
       "      <td>not spam</td>\n",
       "    </tr>\n",
       "    <tr>\n",
       "      <td>56</td>\n",
       "      <td>spam</td>\n",
       "      <td>Congrats! 1 year special cinema pass for 2 is yours. call 09061209465 now! C Suprman V, Matrix3, StarWars3, etc all 4 FREE! bx420-ip4-5we. 150pm. Dont miss out!</td>\n",
       "      <td>2.498004e-92</td>\n",
       "      <td>1.653953e-103</td>\n",
       "      <td>spam</td>\n",
       "    </tr>\n",
       "    <tr>\n",
       "      <td>60</td>\n",
       "      <td>ham</td>\n",
       "      <td>Your gonna have to pick up a $1 burger for yourself on your way home. I can't even move. Pain is killing me.</td>\n",
       "      <td>1.249651e-71</td>\n",
       "      <td>4.107227e-62</td>\n",
       "      <td>not spam</td>\n",
       "    </tr>\n",
       "    <tr>\n",
       "      <td>62</td>\n",
       "      <td>ham</td>\n",
       "      <td>Its a part of checking IQ</td>\n",
       "      <td>1.220869e-21</td>\n",
       "      <td>3.842405e-19</td>\n",
       "      <td>not spam</td>\n",
       "    </tr>\n",
       "  </tbody>\n",
       "</table>\n",
       "</div>"
      ],
      "text/plain": [
       "   label  \\\n",
       "0   ham    \n",
       "7   ham    \n",
       "21  ham    \n",
       "24  ham    \n",
       "25  ham    \n",
       "28  ham    \n",
       "35  ham    \n",
       "56  spam   \n",
       "60  ham    \n",
       "62  ham    \n",
       "\n",
       "                                                                                                                                                                  SMS  \\\n",
       "0   Go until jurong point, crazy.. Available only in bugis n great world la e buffet... Cine there got amore wat...                                                     \n",
       "7   As per your request 'Melle Melle (Oru Minnaminunginte Nurungu Vettam)' has been set as your callertune for all Callers. Press *9 to copy your friends Callertune    \n",
       "21  I‘m going to try for 2 months ha ha only joking                                                                                                                     \n",
       "24  Ffffffffff. Alright no way I can meet up with you sooner?                                                                                                           \n",
       "25  Just forced myself to eat a slice. I'm really not hungry tho. This sucks. Mark is getting worried. He knows I'm sick when I turn down pizza. Lol                    \n",
       "28  I'm back &amp; we're packing the car now, I'll let you know if there's room                                                                                         \n",
       "35  Yup... Ok i go home look at the timings then i msg ü again... Xuhui going to learn on 2nd may too but her lesson is at 8am                                          \n",
       "56  Congrats! 1 year special cinema pass for 2 is yours. call 09061209465 now! C Suprman V, Matrix3, StarWars3, etc all 4 FREE! bx420-ip4-5we. 150pm. Dont miss out!    \n",
       "60  Your gonna have to pick up a $1 burger for yourself on your way home. I can't even move. Pain is killing me.                                                        \n",
       "62  Its a part of checking IQ                                                                                                                                           \n",
       "\n",
       "           p_spam      p_notspam classification  \n",
       "0   7.525434e-68   1.590696e-59   not spam       \n",
       "7   1.810913e-92   2.015411e-90   not spam       \n",
       "21  7.244634e-40   3.995048e-35   not spam       \n",
       "24  6.352126e-34   3.470980e-27   not spam       \n",
       "25  1.186144e-100  8.872769e-83   not spam       \n",
       "28  1.582828e-57   8.778320e-45   not spam       \n",
       "35  3.671964e-93   2.489850e-76   not spam       \n",
       "56  2.498004e-92   1.653953e-103  spam           \n",
       "60  1.249651e-71   4.107227e-62   not spam       \n",
       "62  1.220869e-21   3.842405e-19   not spam       "
      ]
     },
     "execution_count": 51,
     "metadata": {},
     "output_type": "execute_result"
    }
   ],
   "source": [
    "# Show a sample of the result\n",
    "test_set.head(10)"
   ]
  },
  {
   "cell_type": "markdown",
   "metadata": {},
   "source": [
    "Awesome! 10 out of 10 correct for this first sample. \n",
    "\n",
    "Let's explore more. What we will do is add a column 'correctness' to the dataframe to indicate whether the spam classifier got the same result as human classification did. Then we can easily calculate statistics, and look at examples where we don't get the right result."
   ]
  },
  {
   "cell_type": "code",
   "execution_count": 52,
   "metadata": {},
   "outputs": [],
   "source": [
    "# Define function to assess correctness of the spam classifier for a message\n",
    "def correctness(row):\n",
    "    # Initialize output as 'not set'\n",
    "    output = 'not set'\n",
    "    # Set output for spam messages\n",
    "    if row['label'] == 'spam':\n",
    "        if row['classification'] == 'spam':\n",
    "            output = 'correct' \n",
    "        if row['classification'] == 'not spam':\n",
    "            output = 'incorrect' \n",
    "    # Set output for not-spam messages\n",
    "    if row['label'] == 'ham':\n",
    "        if row['classification'] == 'not spam':\n",
    "            output = 'correct'\n",
    "        if row['classification'] == 'spam':\n",
    "            output = 'incorrect'\n",
    "    return output        "
   ]
  },
  {
   "cell_type": "code",
   "execution_count": 53,
   "metadata": {},
   "outputs": [
    {
     "data": {
      "text/plain": [
       "'correct'"
      ]
     },
     "execution_count": 53,
     "metadata": {},
     "output_type": "execute_result"
    }
   ],
   "source": [
    "# Test on the first row\n",
    "correctness(test_set.iloc[0])"
   ]
  },
  {
   "cell_type": "code",
   "execution_count": 54,
   "metadata": {},
   "outputs": [],
   "source": [
    "# Initialize new column in the test set dataframe\n",
    "test_set['correctness'] = 'to do'\n",
    "\n",
    "# Apply function to every row\n",
    "test_set['correctness'] = test_set.apply(correctness, axis = 1)"
   ]
  },
  {
   "cell_type": "code",
   "execution_count": 55,
   "metadata": {},
   "outputs": [
    {
     "data": {
      "text/html": [
       "<div>\n",
       "<style scoped>\n",
       "    .dataframe tbody tr th:only-of-type {\n",
       "        vertical-align: middle;\n",
       "    }\n",
       "\n",
       "    .dataframe tbody tr th {\n",
       "        vertical-align: top;\n",
       "    }\n",
       "\n",
       "    .dataframe thead th {\n",
       "        text-align: right;\n",
       "    }\n",
       "</style>\n",
       "<table border=\"1\" class=\"dataframe\">\n",
       "  <thead>\n",
       "    <tr style=\"text-align: right;\">\n",
       "      <th></th>\n",
       "      <th>label</th>\n",
       "      <th>SMS</th>\n",
       "      <th>p_spam</th>\n",
       "      <th>p_notspam</th>\n",
       "      <th>classification</th>\n",
       "      <th>correctness</th>\n",
       "    </tr>\n",
       "  </thead>\n",
       "  <tbody>\n",
       "    <tr>\n",
       "      <td>0</td>\n",
       "      <td>ham</td>\n",
       "      <td>Go until jurong point, crazy.. Available only in bugis n great world la e buffet... Cine there got amore wat...</td>\n",
       "      <td>7.525434e-68</td>\n",
       "      <td>1.590696e-59</td>\n",
       "      <td>not spam</td>\n",
       "      <td>correct</td>\n",
       "    </tr>\n",
       "    <tr>\n",
       "      <td>7</td>\n",
       "      <td>ham</td>\n",
       "      <td>As per your request 'Melle Melle (Oru Minnaminunginte Nurungu Vettam)' has been set as your callertune for all Callers. Press *9 to copy your friends Callertune</td>\n",
       "      <td>1.810913e-92</td>\n",
       "      <td>2.015411e-90</td>\n",
       "      <td>not spam</td>\n",
       "      <td>correct</td>\n",
       "    </tr>\n",
       "    <tr>\n",
       "      <td>21</td>\n",
       "      <td>ham</td>\n",
       "      <td>I‘m going to try for 2 months ha ha only joking</td>\n",
       "      <td>7.244634e-40</td>\n",
       "      <td>3.995048e-35</td>\n",
       "      <td>not spam</td>\n",
       "      <td>correct</td>\n",
       "    </tr>\n",
       "    <tr>\n",
       "      <td>24</td>\n",
       "      <td>ham</td>\n",
       "      <td>Ffffffffff. Alright no way I can meet up with you sooner?</td>\n",
       "      <td>6.352126e-34</td>\n",
       "      <td>3.470980e-27</td>\n",
       "      <td>not spam</td>\n",
       "      <td>correct</td>\n",
       "    </tr>\n",
       "    <tr>\n",
       "      <td>25</td>\n",
       "      <td>ham</td>\n",
       "      <td>Just forced myself to eat a slice. I'm really not hungry tho. This sucks. Mark is getting worried. He knows I'm sick when I turn down pizza. Lol</td>\n",
       "      <td>1.186144e-100</td>\n",
       "      <td>8.872769e-83</td>\n",
       "      <td>not spam</td>\n",
       "      <td>correct</td>\n",
       "    </tr>\n",
       "    <tr>\n",
       "      <td>28</td>\n",
       "      <td>ham</td>\n",
       "      <td>I'm back &amp;amp; we're packing the car now, I'll let you know if there's room</td>\n",
       "      <td>1.582828e-57</td>\n",
       "      <td>8.778320e-45</td>\n",
       "      <td>not spam</td>\n",
       "      <td>correct</td>\n",
       "    </tr>\n",
       "    <tr>\n",
       "      <td>35</td>\n",
       "      <td>ham</td>\n",
       "      <td>Yup... Ok i go home look at the timings then i msg ü again... Xuhui going to learn on 2nd may too but her lesson is at 8am</td>\n",
       "      <td>3.671964e-93</td>\n",
       "      <td>2.489850e-76</td>\n",
       "      <td>not spam</td>\n",
       "      <td>correct</td>\n",
       "    </tr>\n",
       "    <tr>\n",
       "      <td>56</td>\n",
       "      <td>spam</td>\n",
       "      <td>Congrats! 1 year special cinema pass for 2 is yours. call 09061209465 now! C Suprman V, Matrix3, StarWars3, etc all 4 FREE! bx420-ip4-5we. 150pm. Dont miss out!</td>\n",
       "      <td>2.498004e-92</td>\n",
       "      <td>1.653953e-103</td>\n",
       "      <td>spam</td>\n",
       "      <td>correct</td>\n",
       "    </tr>\n",
       "    <tr>\n",
       "      <td>60</td>\n",
       "      <td>ham</td>\n",
       "      <td>Your gonna have to pick up a $1 burger for yourself on your way home. I can't even move. Pain is killing me.</td>\n",
       "      <td>1.249651e-71</td>\n",
       "      <td>4.107227e-62</td>\n",
       "      <td>not spam</td>\n",
       "      <td>correct</td>\n",
       "    </tr>\n",
       "    <tr>\n",
       "      <td>62</td>\n",
       "      <td>ham</td>\n",
       "      <td>Its a part of checking IQ</td>\n",
       "      <td>1.220869e-21</td>\n",
       "      <td>3.842405e-19</td>\n",
       "      <td>not spam</td>\n",
       "      <td>correct</td>\n",
       "    </tr>\n",
       "  </tbody>\n",
       "</table>\n",
       "</div>"
      ],
      "text/plain": [
       "   label  \\\n",
       "0   ham    \n",
       "7   ham    \n",
       "21  ham    \n",
       "24  ham    \n",
       "25  ham    \n",
       "28  ham    \n",
       "35  ham    \n",
       "56  spam   \n",
       "60  ham    \n",
       "62  ham    \n",
       "\n",
       "                                                                                                                                                                  SMS  \\\n",
       "0   Go until jurong point, crazy.. Available only in bugis n great world la e buffet... Cine there got amore wat...                                                     \n",
       "7   As per your request 'Melle Melle (Oru Minnaminunginte Nurungu Vettam)' has been set as your callertune for all Callers. Press *9 to copy your friends Callertune    \n",
       "21  I‘m going to try for 2 months ha ha only joking                                                                                                                     \n",
       "24  Ffffffffff. Alright no way I can meet up with you sooner?                                                                                                           \n",
       "25  Just forced myself to eat a slice. I'm really not hungry tho. This sucks. Mark is getting worried. He knows I'm sick when I turn down pizza. Lol                    \n",
       "28  I'm back &amp; we're packing the car now, I'll let you know if there's room                                                                                         \n",
       "35  Yup... Ok i go home look at the timings then i msg ü again... Xuhui going to learn on 2nd may too but her lesson is at 8am                                          \n",
       "56  Congrats! 1 year special cinema pass for 2 is yours. call 09061209465 now! C Suprman V, Matrix3, StarWars3, etc all 4 FREE! bx420-ip4-5we. 150pm. Dont miss out!    \n",
       "60  Your gonna have to pick up a $1 burger for yourself on your way home. I can't even move. Pain is killing me.                                                        \n",
       "62  Its a part of checking IQ                                                                                                                                           \n",
       "\n",
       "           p_spam      p_notspam classification correctness  \n",
       "0   7.525434e-68   1.590696e-59   not spam       correct     \n",
       "7   1.810913e-92   2.015411e-90   not spam       correct     \n",
       "21  7.244634e-40   3.995048e-35   not spam       correct     \n",
       "24  6.352126e-34   3.470980e-27   not spam       correct     \n",
       "25  1.186144e-100  8.872769e-83   not spam       correct     \n",
       "28  1.582828e-57   8.778320e-45   not spam       correct     \n",
       "35  3.671964e-93   2.489850e-76   not spam       correct     \n",
       "56  2.498004e-92   1.653953e-103  spam           correct     \n",
       "60  1.249651e-71   4.107227e-62   not spam       correct     \n",
       "62  1.220869e-21   3.842405e-19   not spam       correct     "
      ]
     },
     "execution_count": 55,
     "metadata": {},
     "output_type": "execute_result"
    }
   ],
   "source": [
    "# Show the result (sample)\n",
    "test_set.head(10)"
   ]
  },
  {
   "cell_type": "markdown",
   "metadata": {},
   "source": [
    "Let's have a first look at our statistics."
   ]
  },
  {
   "cell_type": "code",
   "execution_count": 56,
   "metadata": {},
   "outputs": [
    {
     "data": {
      "text/plain": [
       "correct      1100\n",
       "incorrect    13  \n",
       "not set      1   \n",
       "Name: correctness, dtype: int64"
      ]
     },
     "execution_count": 56,
     "metadata": {},
     "output_type": "execute_result"
    }
   ],
   "source": [
    "# Check value-counts for correctness\n",
    "test_set['correctness'].value_counts()"
   ]
  },
  {
   "cell_type": "markdown",
   "metadata": {},
   "source": [
    "That seems to work very, very well! We'll calculate more statistics later. Let's now first take a look at the messages where the result was not correct."
   ]
  },
  {
   "cell_type": "code",
   "execution_count": 57,
   "metadata": {},
   "outputs": [
    {
     "data": {
      "text/html": [
       "<div>\n",
       "<style scoped>\n",
       "    .dataframe tbody tr th:only-of-type {\n",
       "        vertical-align: middle;\n",
       "    }\n",
       "\n",
       "    .dataframe tbody tr th {\n",
       "        vertical-align: top;\n",
       "    }\n",
       "\n",
       "    .dataframe thead th {\n",
       "        text-align: right;\n",
       "    }\n",
       "</style>\n",
       "<table border=\"1\" class=\"dataframe\">\n",
       "  <thead>\n",
       "    <tr style=\"text-align: right;\">\n",
       "      <th></th>\n",
       "      <th>label</th>\n",
       "      <th>SMS</th>\n",
       "      <th>p_spam</th>\n",
       "      <th>p_notspam</th>\n",
       "      <th>classification</th>\n",
       "      <th>correctness</th>\n",
       "    </tr>\n",
       "  </thead>\n",
       "  <tbody>\n",
       "    <tr>\n",
       "      <td>216</td>\n",
       "      <td>ham</td>\n",
       "      <td>Finally the match heading towards draw as your prediction.</td>\n",
       "      <td>6.340296e-24</td>\n",
       "      <td>5.622059e-24</td>\n",
       "      <td>spam</td>\n",
       "      <td>incorrect</td>\n",
       "    </tr>\n",
       "    <tr>\n",
       "      <td>2173</td>\n",
       "      <td>ham</td>\n",
       "      <td>Yavnt tried yet and never played original either</td>\n",
       "      <td>1.114261e-26</td>\n",
       "      <td>6.025706e-27</td>\n",
       "      <td>spam</td>\n",
       "      <td>incorrect</td>\n",
       "    </tr>\n",
       "    <tr>\n",
       "      <td>4600</td>\n",
       "      <td>ham</td>\n",
       "      <td>Have you laid your airtel line to rest?</td>\n",
       "      <td>7.121424e-25</td>\n",
       "      <td>7.669993e-26</td>\n",
       "      <td>spam</td>\n",
       "      <td>incorrect</td>\n",
       "    </tr>\n",
       "    <tr>\n",
       "      <td>4703</td>\n",
       "      <td>ham</td>\n",
       "      <td>Anytime...</td>\n",
       "      <td>5.859427e-05</td>\n",
       "      <td>4.031256e-05</td>\n",
       "      <td>spam</td>\n",
       "      <td>incorrect</td>\n",
       "    </tr>\n",
       "    <tr>\n",
       "      <td>1863</td>\n",
       "      <td>ham</td>\n",
       "      <td>The last thing i ever wanted to do was hurt you. And i didn't think it would have. You'd laugh, be embarassed, delete the tag and keep going. But as far as i knew, it wasn't even up. The fact that you even felt like i would do it to hurt you shows you really don't know me at all. It was messy wednesday, but it wasn't bad. The problem i have with it is you HAVE the time to clean it, but you choose not to. You skype, you take pictures, you sleep, you want to go out. I don't mind a few things here and there, but when you don't make the bed, when you throw laundry on top of it, when i can't have a friend in the house because i'm embarassed that there's underwear and bras strewn on the bed, pillows on the floor, that's something else. You used to be good about at least making the bed.</td>\n",
       "      <td>0.000000e+00</td>\n",
       "      <td>0.000000e+00</td>\n",
       "      <td>too close to call</td>\n",
       "      <td>not set</td>\n",
       "    </tr>\n",
       "    <tr>\n",
       "      <td>869</td>\n",
       "      <td>spam</td>\n",
       "      <td>Hello. We need some posh birds and chaps to user trial prods for champneys. Can i put you down? I need your address and dob asap. Ta r</td>\n",
       "      <td>4.868851e-71</td>\n",
       "      <td>2.972185e-61</td>\n",
       "      <td>not spam</td>\n",
       "      <td>incorrect</td>\n",
       "    </tr>\n",
       "    <tr>\n",
       "      <td>1469</td>\n",
       "      <td>spam</td>\n",
       "      <td>Hi its LUCY Hubby at meetins all day Fri &amp; I will B alone at hotel U fancy cumin over? Pls leave msg 2day 09099726395 Lucy x Calls£1/minMobsmoreLKPOBOX177HP51FL</td>\n",
       "      <td>4.452791e-81</td>\n",
       "      <td>2.015650e-76</td>\n",
       "      <td>not spam</td>\n",
       "      <td>incorrect</td>\n",
       "    </tr>\n",
       "    <tr>\n",
       "      <td>1638</td>\n",
       "      <td>spam</td>\n",
       "      <td>0A$NETWORKS allow companies to bill for SMS, so they are responsible for their \"suppliers\", just as a shop has to give a guarantee on what they sell. B. G.</td>\n",
       "      <td>4.567450e-77</td>\n",
       "      <td>1.379336e-73</td>\n",
       "      <td>not spam</td>\n",
       "      <td>incorrect</td>\n",
       "    </tr>\n",
       "    <tr>\n",
       "      <td>2965</td>\n",
       "      <td>spam</td>\n",
       "      <td>Do you ever notice that when you're driving, anyone going slower than you is an idiot and everyone driving faster than you is a maniac?</td>\n",
       "      <td>2.386440e-80</td>\n",
       "      <td>3.235119e-68</td>\n",
       "      <td>not spam</td>\n",
       "      <td>incorrect</td>\n",
       "    </tr>\n",
       "    <tr>\n",
       "      <td>3419</td>\n",
       "      <td>spam</td>\n",
       "      <td>LIFE has never been this much fun and great until you came in. You made it truly special for me. I won't forget you! enjoy @ one gbp/sms</td>\n",
       "      <td>4.119620e-94</td>\n",
       "      <td>1.578211e-83</td>\n",
       "      <td>not spam</td>\n",
       "      <td>incorrect</td>\n",
       "    </tr>\n",
       "    <tr>\n",
       "      <td>3742</td>\n",
       "      <td>spam</td>\n",
       "      <td>2/2 146tf150p</td>\n",
       "      <td>6.770715e-06</td>\n",
       "      <td>1.348916e-05</td>\n",
       "      <td>not spam</td>\n",
       "      <td>incorrect</td>\n",
       "    </tr>\n",
       "    <tr>\n",
       "      <td>4069</td>\n",
       "      <td>spam</td>\n",
       "      <td>TBS/PERSOLVO. been chasing us since Sept for£38 definitely not paying now thanks to your information. We will ignore them. Kath. Manchester.</td>\n",
       "      <td>4.533055e-61</td>\n",
       "      <td>7.121338e-58</td>\n",
       "      <td>not spam</td>\n",
       "      <td>incorrect</td>\n",
       "    </tr>\n",
       "    <tr>\n",
       "      <td>4968</td>\n",
       "      <td>spam</td>\n",
       "      <td>You can donate £2.50 to UNICEF's Asian Tsunami disaster support fund by texting DONATE to 864233. £2.50 will be added to your next bill</td>\n",
       "      <td>1.550040e-54</td>\n",
       "      <td>2.675138e-54</td>\n",
       "      <td>not spam</td>\n",
       "      <td>incorrect</td>\n",
       "    </tr>\n",
       "    <tr>\n",
       "      <td>5540</td>\n",
       "      <td>spam</td>\n",
       "      <td>ASKED 3MOBILE IF 0870 CHATLINES INCLU IN FREE MINS. INDIA CUST SERVs SED YES. L8ER GOT MEGA BILL. 3 DONT GIV A SHIT. BAILIFF DUE IN DAYS. I O £250 3 WANT £800</td>\n",
       "      <td>5.621875e-89</td>\n",
       "      <td>2.499889e-88</td>\n",
       "      <td>not spam</td>\n",
       "      <td>incorrect</td>\n",
       "    </tr>\n",
       "  </tbody>\n",
       "</table>\n",
       "</div>"
      ],
      "text/plain": [
       "     label  \\\n",
       "216   ham    \n",
       "2173  ham    \n",
       "4600  ham    \n",
       "4703  ham    \n",
       "1863  ham    \n",
       "869   spam   \n",
       "1469  spam   \n",
       "1638  spam   \n",
       "2965  spam   \n",
       "3419  spam   \n",
       "3742  spam   \n",
       "4069  spam   \n",
       "4968  spam   \n",
       "5540  spam   \n",
       "\n",
       "                                                                                                                                                                                                                                                                                                                                                                                                                                                                                                                                                                                                                                                                                                                                                                                                                         SMS  \\\n",
       "216   Finally the match heading towards draw as your prediction.                                                                                                                                                                                                                                                                                                                                                                                                                                                                                                                                                                                                                                                                                                                                                               \n",
       "2173  Yavnt tried yet and never played original either                                                                                                                                                                                                                                                                                                                                                                                                                                                                                                                                                                                                                                                                                                                                                                         \n",
       "4600  Have you laid your airtel line to rest?                                                                                                                                                                                                                                                                                                                                                                                                                                                                                                                                                                                                                                                                                                                                                                                  \n",
       "4703  Anytime...                                                                                                                                                                                                                                                                                                                                                                                                                                                                                                                                                                                                                                                                                                                                                                                                               \n",
       "1863  The last thing i ever wanted to do was hurt you. And i didn't think it would have. You'd laugh, be embarassed, delete the tag and keep going. But as far as i knew, it wasn't even up. The fact that you even felt like i would do it to hurt you shows you really don't know me at all. It was messy wednesday, but it wasn't bad. The problem i have with it is you HAVE the time to clean it, but you choose not to. You skype, you take pictures, you sleep, you want to go out. I don't mind a few things here and there, but when you don't make the bed, when you throw laundry on top of it, when i can't have a friend in the house because i'm embarassed that there's underwear and bras strewn on the bed, pillows on the floor, that's something else. You used to be good about at least making the bed.   \n",
       "869   Hello. We need some posh birds and chaps to user trial prods for champneys. Can i put you down? I need your address and dob asap. Ta r                                                                                                                                                                                                                                                                                                                                                                                                                                                                                                                                                                                                                                                                                   \n",
       "1469  Hi its LUCY Hubby at meetins all day Fri & I will B alone at hotel U fancy cumin over? Pls leave msg 2day 09099726395 Lucy x Calls£1/minMobsmoreLKPOBOX177HP51FL                                                                                                                                                                                                                                                                                                                                                                                                                                                                                                                                                                                                                                                         \n",
       "1638  0A$NETWORKS allow companies to bill for SMS, so they are responsible for their \"suppliers\", just as a shop has to give a guarantee on what they sell. B. G.                                                                                                                                                                                                                                                                                                                                                                                                                                                                                                                                                                                                                                                              \n",
       "2965  Do you ever notice that when you're driving, anyone going slower than you is an idiot and everyone driving faster than you is a maniac?                                                                                                                                                                                                                                                                                                                                                                                                                                                                                                                                                                                                                                                                                  \n",
       "3419  LIFE has never been this much fun and great until you came in. You made it truly special for me. I won't forget you! enjoy @ one gbp/sms                                                                                                                                                                                                                                                                                                                                                                                                                                                                                                                                                                                                                                                                                 \n",
       "3742  2/2 146tf150p                                                                                                                                                                                                                                                                                                                                                                                                                                                                                                                                                                                                                                                                                                                                                                                                            \n",
       "4069  TBS/PERSOLVO. been chasing us since Sept for£38 definitely not paying now thanks to your information. We will ignore them. Kath. Manchester.                                                                                                                                                                                                                                                                                                                                                                                                                                                                                                                                                                                                                                                                             \n",
       "4968  You can donate £2.50 to UNICEF's Asian Tsunami disaster support fund by texting DONATE to 864233. £2.50 will be added to your next bill                                                                                                                                                                                                                                                                                                                                                                                                                                                                                                                                                                                                                                                                                  \n",
       "5540  ASKED 3MOBILE IF 0870 CHATLINES INCLU IN FREE MINS. INDIA CUST SERVs SED YES. L8ER GOT MEGA BILL. 3 DONT GIV A SHIT. BAILIFF DUE IN DAYS. I O £250 3 WANT £800                                                                                                                                                                                                                                                                                                                                                                                                                                                                                                                                                                                                                                                           \n",
       "\n",
       "            p_spam     p_notspam     classification correctness  \n",
       "216   6.340296e-24  5.622059e-24  spam               incorrect   \n",
       "2173  1.114261e-26  6.025706e-27  spam               incorrect   \n",
       "4600  7.121424e-25  7.669993e-26  spam               incorrect   \n",
       "4703  5.859427e-05  4.031256e-05  spam               incorrect   \n",
       "1863  0.000000e+00  0.000000e+00  too close to call  not set     \n",
       "869   4.868851e-71  2.972185e-61  not spam           incorrect   \n",
       "1469  4.452791e-81  2.015650e-76  not spam           incorrect   \n",
       "1638  4.567450e-77  1.379336e-73  not spam           incorrect   \n",
       "2965  2.386440e-80  3.235119e-68  not spam           incorrect   \n",
       "3419  4.119620e-94  1.578211e-83  not spam           incorrect   \n",
       "3742  6.770715e-06  1.348916e-05  not spam           incorrect   \n",
       "4069  4.533055e-61  7.121338e-58  not spam           incorrect   \n",
       "4968  1.550040e-54  2.675138e-54  not spam           incorrect   \n",
       "5540  5.621875e-89  2.499889e-88  not spam           incorrect   "
      ]
     },
     "execution_count": 57,
     "metadata": {},
     "output_type": "execute_result"
    }
   ],
   "source": [
    "# Show incorrectly classified messages (and the message where correctness was not set)\n",
    "incorrectly_classified = test_set[test_set['correctness']!='correct'].sort_values(['label', 'classification'])\n",
    "incorrectly_classified"
   ]
  },
  {
   "cell_type": "markdown",
   "metadata": {},
   "source": [
    "Interesting to see the examples. It would take quite some analysis to figure out what exactly causes these to be not correct, and even more effort to figure out if there would be anything to do about it. An initial thought could be that possibly these ones were 'close' in a sense that both conditional probabilities are similar, however looking at the numbers that does not seem to be the case for most. (E.g. `e-71` and `e-61` imply that one is in the range of 10,000,000,000 as high as the other!)\n",
    "\n",
    "The one where correctness was not set is obviously the one that was too close to call. Both probabilities appear to be 0 for this one. Maybe the message is so long that the multiplication of many small numbers went into a range beyond this computer's ability to handle? Not exploring this further though; it's only one out of more than a thousand messages.  \n",
    "\n",
    "Rather, let's calculate statistics for the accuracy of our spam classifier!"
   ]
  },
  {
   "cell_type": "code",
   "execution_count": 58,
   "metadata": {},
   "outputs": [
    {
     "name": "stdout",
     "output_type": "stream",
     "text": [
      "Overall accuracy is 98.74%\n",
      "Accuracy for spam messages 93.53%\n",
      "Accuracy to not-spam messages is 99.49%\n"
     ]
    }
   ],
   "source": [
    "# Count total, spam, and not-spam messages\n",
    "count_test_set = len(test_set)\n",
    "count_spam = len(test_set[test_set['label']=='spam'])\n",
    "count_notspam = len(test_set[test_set['label']=='ham'])\n",
    "# print(count_test_set, count_spam, count_notspam, count_spam+count_notspam) - commented out after verifying\n",
    "\n",
    "# Count correctly classified spam and not-spam messages\n",
    "count_spam_correct = len(test_set[(test_set['label']=='spam') & (test_set['classification']=='spam')])\n",
    "count_notspam_correct = len(test_set[(test_set['label']=='ham') & (test_set['classification']=='not spam')])\n",
    "count_correct = count_spam_correct + count_notspam_correct\n",
    "# print(count_spam_correct, count_notspam_correct) - commented out after verifying\n",
    "\n",
    "# Calculate accuracies\n",
    "accuracy_overall = count_correct / count_test_set\n",
    "accuracy_spam = count_spam_correct / count_spam\n",
    "accuracy_notspam = count_notspam_correct / count_notspam\n",
    "\n",
    "print('Overall accuracy is {:.2%}'.format(accuracy_overall))\n",
    "print('Accuracy for spam messages {:.2%}'.format(accuracy_spam))\n",
    "print('Accuracy to not-spam messages is {:.2%}'.format(accuracy_notspam))"
   ]
  },
  {
   "cell_type": "markdown",
   "metadata": {},
   "source": [
    "So overall, almost 99% of the messages in the test set were classified correctly by our spam classifier.\n",
    "\n",
    "For messages that were spam (that is: a human classified them as such) the accuracy was somewhat lower. So suppose that you would apply this classifier as a filter, spam messages would still have a chance of some 6.5% to get through.\n",
    "\n",
    "On the other side, the chance that a not-spam message would be blocked because the spam classifier classified it as spam is only around 0.5%."
   ]
  },
  {
   "cell_type": "markdown",
   "metadata": {},
   "source": [
    "## Conclusion and next steps\n",
    "\n",
    "In this project, we took a dataset of around 5000 SMS messages and split it into a training set (80%) and a test set (20%). Using the individual words in the messages (of the training set) and applying Naive Bayes, we built a spam classifier that was able to classify almost 99% of the messages in the test set correctly as \"spam\" or \"not spam\". Although I hadn't explicitly expressed a goal or expectation, personally I am amazed by this result!\n",
    "\n",
    "It is not easy to identify next steps, given the accuracy is so high already. One may try to figure out under which circumstances the classification goes wrong, or has a significant chance to go wrong. And then classify these messages as 'too close to call' and/or 'human judgment required'. This may prove hard though.\n",
    "\n",
    "Another direction could be to look at more advanced algorithms. A potential weakness of Naive Bayes is that it assumes independece of all probabilities (that is why it is called 'naive'). In this case assuming that the probability of a word to be part of a message is unrelated to that of another word to be part of the same message. In reality, it is very likely that particular combinations of words are common, and that taking that into account could yield better results. Not having studied this though (doing that would be the first step), I expect this to be far from straightforward.\n",
    "\n",
    "For now, I am happy with the result though, and conclude this study!"
   ]
  }
 ],
 "metadata": {
  "kernelspec": {
   "display_name": "Python 3",
   "language": "python",
   "name": "python3"
  },
  "language_info": {
   "codemirror_mode": {
    "name": "ipython",
    "version": 3
   },
   "file_extension": ".py",
   "mimetype": "text/x-python",
   "name": "python",
   "nbconvert_exporter": "python",
   "pygments_lexer": "ipython3",
   "version": "3.7.4"
  }
 },
 "nbformat": 4,
 "nbformat_minor": 2
}
